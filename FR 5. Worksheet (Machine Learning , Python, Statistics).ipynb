{
 "cells": [
  {
   "cell_type": "markdown",
   "id": "fcacb06e",
   "metadata": {},
   "source": [
    "# Worksheet_Set1\n",
    "\n",
    "# Machine Learning  Worksheet_1"
   ]
  },
  {
   "cell_type": "code",
   "execution_count": null,
   "id": "d7db5355",
   "metadata": {},
   "outputs": [],
   "source": [
    "Q1. What is the advantage of hierarchical clustering over K-means clustering?\n",
    "\n",
    "a. Hierarchical clustering is computationally less expensive.\n",
    "b. In hierarchical clustering you don’t need to assign number of clusters in beginning.\n",
    "c. Both are equally proficient\n",
    "d. None of these"
   ]
  },
  {
   "cell_type": "markdown",
   "id": "0712c569",
   "metadata": {},
   "source": [
    "Ans - c. Both are equally proficient"
   ]
  },
  {
   "cell_type": "code",
   "execution_count": null,
   "id": "1ba17ebe",
   "metadata": {},
   "outputs": [],
   "source": []
  },
  {
   "cell_type": "code",
   "execution_count": null,
   "id": "34fdf8e2",
   "metadata": {},
   "outputs": [],
   "source": [
    "Q2. Which of the following hyper parameter(s), when increased may cause random forest to over fit the data ?\n",
    "\n",
    "a. max_depth\n",
    "b. n_estimators\n",
    "c. min_samples_leaf\n",
    "d. min_samples_splits\n"
   ]
  },
  {
   "cell_type": "markdown",
   "id": "2e804502",
   "metadata": {},
   "source": [
    "Ans. a. max_depth"
   ]
  },
  {
   "cell_type": "code",
   "execution_count": null,
   "id": "148046b0",
   "metadata": {},
   "outputs": [],
   "source": []
  },
  {
   "cell_type": "code",
   "execution_count": null,
   "id": "f9ef54ab",
   "metadata": {},
   "outputs": [],
   "source": [
    "Q3. Which of the following is the least preferable resampling method in handling imbalance datasets?\n",
    "\n",
    "a. SMOTE \n",
    "b. RandomOverSampler\n",
    "c. RandomUnderSampler\n",
    "d. ADASYN"
   ]
  },
  {
   "cell_type": "markdown",
   "id": "83146f63",
   "metadata": {},
   "source": [
    "Ans. a. SMOTE"
   ]
  },
  {
   "cell_type": "code",
   "execution_count": null,
   "id": "f57009e0",
   "metadata": {},
   "outputs": [],
   "source": []
  },
  {
   "cell_type": "code",
   "execution_count": null,
   "id": "18e61782",
   "metadata": {},
   "outputs": [],
   "source": [
    "Q4. Which of the following statements is/are true about “Type-1” and “Type-2” errors?\n",
    "\n",
    "1. Type1 is known as false positive and Type2 is known as false negative.\n",
    "2. Type1 is known as false negative and Type2 is known as false positive.\n",
    "3. Type1 error occurs when we reject a null hypothesis when it is actually true.\n",
    "\n",
    "a. 1 and 2 \n",
    "b. 1 only\n",
    "c. 1 and 3\n",
    "d. 2 and 3"
   ]
  },
  {
   "cell_type": "markdown",
   "id": "a18ab0ef",
   "metadata": {},
   "source": [
    "Ans - a. 1 and 2 "
   ]
  },
  {
   "cell_type": "code",
   "execution_count": null,
   "id": "aa0fbad0",
   "metadata": {},
   "outputs": [],
   "source": []
  },
  {
   "cell_type": "code",
   "execution_count": null,
   "id": "e7397f5b",
   "metadata": {},
   "outputs": [],
   "source": [
    "Q5. Arrange the steps of k-means algorithm in the order in which they occur:\n",
    "    \n",
    "1. Randomly selecting the cluster centroids\n",
    "2. Updating the cluster centroids iteratively\n",
    "3. Assigning the cluster points to their nearest center\n",
    "\n",
    "a. 3-1-2 \n",
    "b. 2-1-3\n",
    "c. 3-2-1\n",
    "d. 1-3-2"
   ]
  },
  {
   "cell_type": "markdown",
   "id": "271251d2",
   "metadata": {},
   "source": [
    "Ans d. 1-3-2"
   ]
  },
  {
   "cell_type": "code",
   "execution_count": null,
   "id": "4c4dbd9d",
   "metadata": {},
   "outputs": [],
   "source": []
  },
  {
   "cell_type": "code",
   "execution_count": null,
   "id": "55695dce",
   "metadata": {},
   "outputs": [],
   "source": [
    "Q6. Which of the following algorithms is not advisable to use when you have limited CPU resources and time,\n",
    "    and when the data set is relatively large?\n",
    "    \n",
    "a. Decision Trees \n",
    "b. Support Vector Machines\n",
    "c. K-Nearest Neighbors\n",
    "d. Logistic Regression"
   ]
  },
  {
   "cell_type": "markdown",
   "id": "eeb2cdef",
   "metadata": {},
   "source": [
    "Ans b. Support Vector Machines"
   ]
  },
  {
   "cell_type": "code",
   "execution_count": null,
   "id": "b794276c",
   "metadata": {},
   "outputs": [],
   "source": []
  },
  {
   "cell_type": "code",
   "execution_count": null,
   "id": "f18aa341",
   "metadata": {},
   "outputs": [],
   "source": [
    "Q7. What is the main difference between CART (Classification and Regression Trees) and \n",
    "CHAID (Chi Square Automatic Interaction Detection) Trees?\n",
    "\n",
    "a. CART is used for classification, and CHAID is used for regression.\n",
    "b. CART can create multiway trees (more than two children for a node), and CHAID can only create \n",
    "   binary trees (a maximum of two children for a node).\n",
    "c. CART can only create binary trees (a maximum of two children for a node), and CHAID can create \n",
    "   multiway trees (more than two children for a node)\n",
    "D) None of the above\n"
   ]
  },
  {
   "cell_type": "markdown",
   "id": "54d0a167",
   "metadata": {},
   "source": [
    "Ans c. CART can only create binary trees (a maximun of two children for a node), and \n",
    "\n",
    "       CHAID can create multiway trees (more than two children for a node)"
   ]
  },
  {
   "cell_type": "code",
   "execution_count": null,
   "id": "3e26a439",
   "metadata": {},
   "outputs": [],
   "source": []
  },
  {
   "cell_type": "markdown",
   "id": "a348861d",
   "metadata": {},
   "source": [
    "In Q8 to Q10, more than one options are correct, Choose all the correct options:"
   ]
  },
  {
   "cell_type": "code",
   "execution_count": null,
   "id": "a099bb49",
   "metadata": {},
   "outputs": [],
   "source": [
    "Q8. In Ridge and Lasso regularization if you take a large value of regularization constant(lambda), which \n",
    "    of the following things may occur?\n",
    "    \n",
    "a. Ridge will lead to some of the coefficients to be very close to 0\n",
    "b. Lasso will lead to some of the coefficients to be very close to 0\n",
    "c. Ridge will cause some of the coefficients to become 0\n",
    "d. Lasso will cause some of the coefficients to become 0."
   ]
  },
  {
   "cell_type": "markdown",
   "id": "a2f2050e",
   "metadata": {},
   "source": [
    "Ans  c. Ridge will cause some of the coefficients to become 0\n",
    "\n",
    "     b. Lasso will lead to some of the coefficients to be very close to 0"
   ]
  },
  {
   "cell_type": "code",
   "execution_count": null,
   "id": "34789155",
   "metadata": {},
   "outputs": [],
   "source": []
  },
  {
   "cell_type": "code",
   "execution_count": null,
   "id": "c969a2fc",
   "metadata": {},
   "outputs": [],
   "source": [
    "Q9. Which of the following methods can be used to treat two multi-collinear features?\n",
    "\n",
    "a. remove both features from the dataset\n",
    "b. remove only one of the features \n",
    "c. Use ridge regularization \n",
    "d. use Lasso regularization "
   ]
  },
  {
   "cell_type": "markdown",
   "id": "e714d214",
   "metadata": {},
   "source": [
    "Ans c. Use ridge regularization \n",
    "\n",
    "    d. use Lasso regularization"
   ]
  },
  {
   "cell_type": "code",
   "execution_count": null,
   "id": "29fa3f2d",
   "metadata": {},
   "outputs": [],
   "source": []
  },
  {
   "cell_type": "markdown",
   "id": "72cc6c52",
   "metadata": {},
   "source": [
    "Q10. After using linear regression, we find that the bias is very low, while the variance is very high. What \n",
    "are the possible reasons for this?\n",
    "\n",
    "a. Overfitting \n",
    "b. Multicollinearity\n",
    "c. Underfitting \n",
    "d. Outliers"
   ]
  },
  {
   "cell_type": "markdown",
   "id": "8b04895e",
   "metadata": {},
   "source": [
    "Ans a. Overfitting\n",
    "\n",
    "    c. Underfitting "
   ]
  },
  {
   "cell_type": "code",
   "execution_count": null,
   "id": "04939171",
   "metadata": {},
   "outputs": [],
   "source": []
  },
  {
   "cell_type": "markdown",
   "id": "c66a698a",
   "metadata": {},
   "source": [
    "Q11 to Q15 are subjective answer type questions, Answer them briefly"
   ]
  },
  {
   "cell_type": "code",
   "execution_count": null,
   "id": "b1beb1f7",
   "metadata": {},
   "outputs": [],
   "source": [
    "Q11. In which situation One-hot encoding must be avoided? Which encoding technique can be used in \n",
    "     such a case?"
   ]
  },
  {
   "cell_type": "markdown",
   "id": "a432cd99",
   "metadata": {},
   "source": [
    "Ans. One hot encoding is a process of converting categorical data variables so they can be provided \n",
    "to machine learning algorithms to improve predictions. One hot encoding is a crucial part of feature engineering \n",
    "for machine learning.\n",
    "\n",
    "One-hot encoding creates d-dimensional vectors for each instance where d is the unique number of feature values in the dataset.\n",
    "\n",
    "In this case the Ordinal technique is used because it convert the categorical data to integer Data or float data.\n",
    "Machine Learning is knowing the binary process."
   ]
  },
  {
   "cell_type": "code",
   "execution_count": null,
   "id": "a996ea72",
   "metadata": {},
   "outputs": [],
   "source": []
  },
  {
   "cell_type": "code",
   "execution_count": null,
   "id": "a35a6e3e",
   "metadata": {},
   "outputs": [],
   "source": [
    "Q12. In case of data imbalance problem in classification, what techniques can be used to balance the \n",
    "     dataset? Explain them briefly.\n"
   ]
  },
  {
   "cell_type": "markdown",
   "id": "0a8670cb",
   "metadata": {},
   "source": [
    "Ans. In this case we use resampling (Oversampling and undersampling)\n",
    "     \n",
    "    When we are using an imbalanced dataset, we can oversample the minority class using replacement.\n",
    "    This technique is called oversampling.\n",
    "    Similarly, we can randomly delete rows from the majority class to match them with the minority class \n",
    "    which is called undersampling."
   ]
  },
  {
   "cell_type": "code",
   "execution_count": null,
   "id": "4527b976",
   "metadata": {},
   "outputs": [],
   "source": []
  },
  {
   "cell_type": "code",
   "execution_count": null,
   "id": "2600c405",
   "metadata": {},
   "outputs": [],
   "source": [
    "Q13. What is the difference between SMOTE and ADASYN sampling techniques?"
   ]
  },
  {
   "cell_type": "markdown",
   "id": "fc5a49d1",
   "metadata": {},
   "source": [
    "Ans. SMOTE - (Synthetic minority oversampling technique) is one of the most commonly used oversampling methods \n",
    "     to solve the imbalance problem\n",
    "    \n",
    "     ADASYN - ADASYN is based on the idea of adaptively generating minority data samples according to their distributions\n",
    "        \n",
    "        The key difference between ADASYN and SMOTE is that the former uses a density distribution"
   ]
  },
  {
   "cell_type": "code",
   "execution_count": null,
   "id": "7c910cde",
   "metadata": {},
   "outputs": [],
   "source": []
  },
  {
   "cell_type": "code",
   "execution_count": null,
   "id": "ad03d9ae",
   "metadata": {},
   "outputs": [],
   "source": [
    "Q14. What is the purpose of using GridSearchCV? Is it preferable to use in case of large datasets? Why or \n",
    "     why not?"
   ]
  },
  {
   "cell_type": "code",
   "execution_count": null,
   "id": "bc3167ee",
   "metadata": {},
   "outputs": [],
   "source": [
    "Ans GridSearchCV is the process of performing hyperparameter tuning in order to determine the optimal values for a given model."
   ]
  },
  {
   "cell_type": "code",
   "execution_count": null,
   "id": "f9a8ca4a",
   "metadata": {},
   "outputs": [],
   "source": []
  },
  {
   "cell_type": "code",
   "execution_count": null,
   "id": "9a334360",
   "metadata": {},
   "outputs": [],
   "source": [
    "Q15. List down some of the evaluation metric used to evaluate a regression model. Explain each of them in brief"
   ]
  },
  {
   "cell_type": "markdown",
   "id": "12cc9568",
   "metadata": {},
   "source": [
    "Ans. Evaluation metric..\n",
    "\n",
    " a. Mean Absolute Error(MAE) - MAE is a very simple metric which calculates the absolute difference between actual and predicted values.\n",
    "       let’s take an example, you have input data and output data and use Linear Regression, which draws a best-fit line.\n",
    "    \n",
    "    code     :  from sklearn.metrics import mean_absolute_error\n",
    "                print(\"MAE\",mean_absolute_error(y_test,y_pred))\n",
    "    \n",
    "    \n",
    "    \n",
    " b. Mean Squared Error(MSE) - MSE is a most used and very simple metric with a little bit of change in mean absolute error.\n",
    "                            Mean squared error states that finding the squared difference between actual and predicted value.\n",
    "      \n",
    "        code    :        from sklearn.metrics import mean_squared_error\n",
    "                         print(\"MSE\",mean_squared_error(y_test,y_pred))\n",
    "        \n",
    "        \n",
    " c. Root Mean Squared Error(RMSE) - it is a simple square root of mean squared error.\n",
    "                code :        print(\"RMSE\",np.sqrt(mean_squared_error(y_test,y_pred)))\n",
    "        \n",
    "        \n",
    "    \n",
    " d. Root Mean Squared Log Error (RMSLE) - "
   ]
  },
  {
   "cell_type": "code",
   "execution_count": null,
   "id": "46ae1515",
   "metadata": {},
   "outputs": [],
   "source": []
  },
  {
   "cell_type": "markdown",
   "id": "415c49d7",
   "metadata": {},
   "source": [
    "# Python - Worksheet_1"
   ]
  },
  {
   "cell_type": "markdown",
   "id": "977529d0",
   "metadata": {},
   "source": [
    "Q1 to Q8 have only one correct answer. Choose the correct option to answer your question."
   ]
  },
  {
   "cell_type": "code",
   "execution_count": null,
   "id": "aa5a7424",
   "metadata": {},
   "outputs": [],
   "source": [
    "1. Which of the following operators is used to calculate remainder in a division?\n",
    "A) # B) &\n",
    "C) % D) $"
   ]
  },
  {
   "cell_type": "code",
   "execution_count": null,
   "id": "d800e23c",
   "metadata": {},
   "outputs": [],
   "source": [
    "Ans - C) %"
   ]
  },
  {
   "cell_type": "code",
   "execution_count": null,
   "id": "9e326a51",
   "metadata": {},
   "outputs": [],
   "source": []
  },
  {
   "cell_type": "code",
   "execution_count": null,
   "id": "ffe128e2",
   "metadata": {},
   "outputs": [],
   "source": [
    "2. In python 2//3 is equal to?\n",
    "A) 0.666 B) 0\n",
    "C) 1 D) 0.67"
   ]
  },
  {
   "cell_type": "code",
   "execution_count": null,
   "id": "5bf2c7ef",
   "metadata": {},
   "outputs": [],
   "source": [
    "Ans - B) 0"
   ]
  },
  {
   "cell_type": "code",
   "execution_count": null,
   "id": "ed3172d7",
   "metadata": {},
   "outputs": [],
   "source": []
  },
  {
   "cell_type": "code",
   "execution_count": null,
   "id": "4be84945",
   "metadata": {},
   "outputs": [],
   "source": [
    "3. In python, 6<<2 is equal to?\n",
    "A) 36 B) 10\n",
    "C) 24 D) 45"
   ]
  },
  {
   "cell_type": "code",
   "execution_count": null,
   "id": "ea1dd6c4",
   "metadata": {},
   "outputs": [],
   "source": [
    "Ans - C) 24"
   ]
  },
  {
   "cell_type": "code",
   "execution_count": null,
   "id": "4c949654",
   "metadata": {},
   "outputs": [],
   "source": []
  },
  {
   "cell_type": "code",
   "execution_count": null,
   "id": "07f082bc",
   "metadata": {},
   "outputs": [],
   "source": [
    "4. In python, 6&2 will give which of the following as output?\n",
    "A) 2 B) True\n",
    "C) False D) 0"
   ]
  },
  {
   "cell_type": "code",
   "execution_count": null,
   "id": "6fad6993",
   "metadata": {},
   "outputs": [],
   "source": [
    "Ans- A)2"
   ]
  },
  {
   "cell_type": "code",
   "execution_count": null,
   "id": "9a401eb1",
   "metadata": {},
   "outputs": [],
   "source": []
  },
  {
   "cell_type": "code",
   "execution_count": null,
   "id": "794a1942",
   "metadata": {},
   "outputs": [],
   "source": [
    "5. In python, 6|2 will give which of the following as output?\n",
    "A) 2 B) 4\n",
    "C) 0 D) 6"
   ]
  },
  {
   "cell_type": "code",
   "execution_count": null,
   "id": "0af54c1f",
   "metadata": {},
   "outputs": [],
   "source": [
    "Ans- D) 6"
   ]
  },
  {
   "cell_type": "code",
   "execution_count": null,
   "id": "5cf1c838",
   "metadata": {},
   "outputs": [],
   "source": []
  },
  {
   "cell_type": "code",
   "execution_count": null,
   "id": "a62945f7",
   "metadata": {},
   "outputs": [],
   "source": [
    "6. What does the finally keyword denotes in python?\n",
    "A) It is used to mark the end of the code\n",
    "B) It encloses the lines of code which will be executed if any error occurs while executing the lines of code in \n",
    "the try block.\n",
    "C) the finally block will be executed no matter if the try block raises an error or not.\n",
    "D) None of the above"
   ]
  },
  {
   "cell_type": "code",
   "execution_count": null,
   "id": "f24fa83f",
   "metadata": {},
   "outputs": [],
   "source": [
    "Ans - C) the finally block will be executed no matter if the try block raises an error or not."
   ]
  },
  {
   "cell_type": "code",
   "execution_count": null,
   "id": "32456499",
   "metadata": {},
   "outputs": [],
   "source": []
  },
  {
   "cell_type": "code",
   "execution_count": null,
   "id": "7fb1ff19",
   "metadata": {},
   "outputs": [],
   "source": [
    "7. What does raise keyword is used for in python?\n",
    "A) It is used to raise an exception. B) It is used to define lambda function\n",
    "C) it's not a keyword in python. D) None of the above"
   ]
  },
  {
   "cell_type": "code",
   "execution_count": null,
   "id": "5db57f3e",
   "metadata": {},
   "outputs": [],
   "source": [
    "Ans - A) It is used to raise an exception."
   ]
  },
  {
   "cell_type": "code",
   "execution_count": null,
   "id": "5b0c4d29",
   "metadata": {},
   "outputs": [],
   "source": []
  },
  {
   "cell_type": "code",
   "execution_count": null,
   "id": "65638194",
   "metadata": {},
   "outputs": [],
   "source": [
    "8. Which of the following is a common use case of yield keyword in python?\n",
    "A) in defining an iterator B) while defining a lambda function\n",
    "C) in defining a generator D) in for loop."
   ]
  },
  {
   "cell_type": "code",
   "execution_count": null,
   "id": "77cdc993",
   "metadata": {},
   "outputs": [],
   "source": [
    "Ans - C) in defining a generator"
   ]
  },
  {
   "cell_type": "code",
   "execution_count": null,
   "id": "76b24e8a",
   "metadata": {},
   "outputs": [],
   "source": []
  },
  {
   "cell_type": "markdown",
   "id": "929b83b1",
   "metadata": {},
   "source": [
    "Q9 and Q10 have multiple correct answers. Choose all the correct options to answer your question."
   ]
  },
  {
   "cell_type": "code",
   "execution_count": null,
   "id": "7c0a659d",
   "metadata": {},
   "outputs": [],
   "source": [
    "9. Which of the following are the valid variable names?\n",
    "A) _abc B) 1abc\n",
    "C) abc2 D) None of the above\n"
   ]
  },
  {
   "cell_type": "code",
   "execution_count": null,
   "id": "ccd49495",
   "metadata": {},
   "outputs": [],
   "source": [
    "Ans - A) _abc\n",
    "      C) abc2"
   ]
  },
  {
   "cell_type": "code",
   "execution_count": null,
   "id": "cb0b82e0",
   "metadata": {},
   "outputs": [],
   "source": []
  },
  {
   "cell_type": "code",
   "execution_count": null,
   "id": "87763ef3",
   "metadata": {},
   "outputs": [],
   "source": [
    "10. Which of the following are the keywords in python?\n",
    "A) yield B) raise\n",
    "C) look-in D) all of the above"
   ]
  },
  {
   "cell_type": "code",
   "execution_count": null,
   "id": "bbd43663",
   "metadata": {},
   "outputs": [],
   "source": [
    "Ans - A) yield\n",
    "      B) raise"
   ]
  },
  {
   "cell_type": "code",
   "execution_count": null,
   "id": "aa55792f",
   "metadata": {},
   "outputs": [],
   "source": []
  },
  {
   "cell_type": "markdown",
   "id": "2bc47b29",
   "metadata": {},
   "source": [
    "Q11 to Q15 are programming questions. Answer them in Jupyter Notebook."
   ]
  },
  {
   "cell_type": "code",
   "execution_count": null,
   "id": "81df7d38",
   "metadata": {},
   "outputs": [],
   "source": [
    "11. Write a python program to find the factorial of a number."
   ]
  },
  {
   "cell_type": "code",
   "execution_count": null,
   "id": "4de8d16f",
   "metadata": {},
   "outputs": [],
   "source": [
    "Ans - # Python program to find the factorial of a number provided by the user.\n",
    "\n",
    "# change the value for a different result\n",
    "num = 7\n",
    "\n",
    "# To take input from the user\n",
    "#num = int(input(\"Enter a number: \"))\n",
    "\n",
    "factorial = 1\n",
    "\n",
    "# check if the number is negative, positive or zero\n",
    "if num < 0:\n",
    "   print(\"Sorry, factorial does not exist for negative numbers\")\n",
    "elif num == 0:\n",
    "   print(\"The factorial of 0 is 1\")\n",
    "else:\n",
    "   for i in range(1,num + 1):\n",
    "       factorial = factorial*i\n",
    "   print(\"The factorial of\",num,\"is\",factorial)"
   ]
  },
  {
   "cell_type": "code",
   "execution_count": null,
   "id": "c6b2a168",
   "metadata": {},
   "outputs": [],
   "source": []
  },
  {
   "cell_type": "code",
   "execution_count": null,
   "id": "6443d1f8",
   "metadata": {},
   "outputs": [],
   "source": [
    "12. Write a python program to find whether a number is prime or composite."
   ]
  },
  {
   "cell_type": "code",
   "execution_count": null,
   "id": "503c0bb9",
   "metadata": {},
   "outputs": [],
   "source": [
    "Ans - Approach :\n",
    "    a. Read input number using input() or raw_input() .\n",
    "    b. Check if num is greater than 1.\n",
    "    c. Find factors. Run a for loop ranging from 2 to the num entered. \n",
    "    d. If the number entered is either 0 or 1, we say that the number is neither prime nor composite number.\n",
    "    e. All other numbers are composite numbers.\n",
    "    f. Print the result.\n",
    "    \n",
    "    \n",
    "# Program to check if a number is prime or not\n",
    "\n",
    "num = 29\n",
    "\n",
    "# To take input from the user\n",
    "#num = int(input(\"Enter a number: \"))\n",
    "\n",
    "# define a flag variable\n",
    "flag = False\n",
    "\n",
    "if num == 1:\n",
    "    print(num, \"is not a prime number\")\n",
    "elif num > 1:\n",
    "    # check for factors\n",
    "    for i in range(2, num):\n",
    "        if (num % i) == 0:\n",
    "            # if factor is found, set flag to True\n",
    "            flag = True\n",
    "            # break out of loop\n",
    "            break\n",
    "\n",
    "    # check if flag is True\n",
    "    if flag:\n",
    "        print(num, \"is not a prime number\")\n",
    "    else:\n",
    "        print(num, \"is a prime number\")"
   ]
  },
  {
   "cell_type": "code",
   "execution_count": null,
   "id": "7ef61c11",
   "metadata": {},
   "outputs": [],
   "source": []
  },
  {
   "cell_type": "code",
   "execution_count": null,
   "id": "154f190b",
   "metadata": {},
   "outputs": [],
   "source": [
    "13. Write a python program to check whether a given string is palindrome or not."
   ]
  },
  {
   "cell_type": "code",
   "execution_count": null,
   "id": "9dd83eda",
   "metadata": {},
   "outputs": [],
   "source": [
    "Ans - # Program to check if a string is palindrome or not\n",
    "\n",
    "my_str = 'aIbohPhoBiA'\n",
    "\n",
    "# make it suitable for caseless comparison\n",
    "my_str = my_str.casefold()\n",
    "\n",
    "# reverse the string\n",
    "rev_str = reversed(my_str)\n",
    "\n",
    "# check if the string is equal to its reverse\n",
    "if list(my_str) == list(rev_str):\n",
    "   print(\"The string is a palindrome.\")\n",
    "else:\n",
    "   print(\"The string is not a palindrome.\")"
   ]
  },
  {
   "cell_type": "code",
   "execution_count": null,
   "id": "c8edfff1",
   "metadata": {},
   "outputs": [],
   "source": []
  },
  {
   "cell_type": "code",
   "execution_count": null,
   "id": "bc51a2b1",
   "metadata": {},
   "outputs": [],
   "source": [
    "14. Write a Python program to get the third side of right-angled triangle from two given sides."
   ]
  },
  {
   "cell_type": "code",
   "execution_count": null,
   "id": "dd844c59",
   "metadata": {},
   "outputs": [],
   "source": [
    "Ans - import math.\n",
    "a = float(input(\"Give side a: \"))\n",
    "b = float(input(\"Give side b: \"))\n",
    "c = math. sqrt(a ** 2 + b ** 2)\n",
    "print(f\"The length of the hypotenuse c is {c}\")"
   ]
  },
  {
   "cell_type": "code",
   "execution_count": null,
   "id": "95a73d64",
   "metadata": {},
   "outputs": [],
   "source": []
  },
  {
   "cell_type": "code",
   "execution_count": null,
   "id": "f2f099ea",
   "metadata": {},
   "outputs": [],
   "source": [
    "15. Write a python program to print the frequency of each of the characters present in a given string"
   ]
  },
  {
   "cell_type": "code",
   "execution_count": 16,
   "id": "2db72e48",
   "metadata": {},
   "outputs": [
    {
     "name": "stdout",
     "output_type": "stream",
     "text": [
      "Count of all characters in GeeksforGeeks is :\n",
      " {'G': 2, 'e': 4, 'k': 2, 'f': 1, 'o': 1, 'r': 1, 's': 1}\n"
     ]
    }
   ],
   "source": [
    "Ans - # Python3 code to demonstrate\n",
    "      # each occurrence frequency using\n",
    "      # naive method\n",
    " \n",
    "# initializing string\n",
    "test_str = \"GeekforGeeks\"\n",
    " \n",
    "# using naive method to get count\n",
    "# of each element in string\n",
    "all_freq = {}\n",
    " \n",
    "for i in test_str:\n",
    "    if i in all_freq:\n",
    "        all_freq[i] += 1\n",
    "    else:\n",
    "        all_freq[i] = 1\n",
    " \n",
    "# printing result\n",
    "print(\"Count of all characters in GeeksforGeeks is :\\n \"\n",
    "      + str(all_freq))"
   ]
  },
  {
   "cell_type": "code",
   "execution_count": null,
   "id": "faa700b7",
   "metadata": {},
   "outputs": [],
   "source": []
  },
  {
   "cell_type": "markdown",
   "id": "a9b42803",
   "metadata": {},
   "source": [
    "# Statistics Worksheet_1"
   ]
  },
  {
   "cell_type": "markdown",
   "id": "ae9b63a4",
   "metadata": {},
   "source": [
    "Q1 to Q12 have only one correct answer. Choose the correct option to answer your question."
   ]
  },
  {
   "cell_type": "code",
   "execution_count": null,
   "id": "cdcd8116",
   "metadata": {},
   "outputs": [],
   "source": [
    "1. In hypothesis testing, type II error is represented by β and the power of the test is 1−β then β is:\n",
    "a. The probability of rejecting H0 when H1 is true\n",
    "b. The probability of failing to reject H0 when H1 is true\n",
    "c. The probability of failing to reject H1 when H0 is true\n",
    "d. The probability of rejecting H0 when H1 is true"
   ]
  },
  {
   "cell_type": "code",
   "execution_count": null,
   "id": "1bbdc9f3",
   "metadata": {},
   "outputs": [],
   "source": [
    "Ans - b.  The probability of failing to reject H0 when H1 is true"
   ]
  },
  {
   "cell_type": "code",
   "execution_count": null,
   "id": "5585c363",
   "metadata": {},
   "outputs": [],
   "source": []
  },
  {
   "cell_type": "code",
   "execution_count": null,
   "id": "2ebc30c1",
   "metadata": {},
   "outputs": [],
   "source": [
    "2. In hypothesis testing, the hypothesis which is tentatively assumed to be true is called the\n",
    "a. correct hypothesis\n",
    "b. null hypothesis \n",
    "c. alternative hypothesis\n",
    "d. level of significance"
   ]
  },
  {
   "cell_type": "code",
   "execution_count": null,
   "id": "d2e5e6b0",
   "metadata": {},
   "outputs": [],
   "source": [
    "Ans - b. null hypothesis"
   ]
  },
  {
   "cell_type": "code",
   "execution_count": null,
   "id": "bd4da335",
   "metadata": {},
   "outputs": [],
   "source": []
  },
  {
   "cell_type": "code",
   "execution_count": null,
   "id": "5803e1bd",
   "metadata": {},
   "outputs": [],
   "source": [
    "3. When the null hypothesis has been true, but the sample information has resulted in the rejection of the null, a \n",
    "_________ has been made\n",
    "a. level of significance\n",
    "b. Type II error\n",
    "c. critical value\n",
    "d. Type I error"
   ]
  },
  {
   "cell_type": "code",
   "execution_count": null,
   "id": "3fba6369",
   "metadata": {},
   "outputs": [],
   "source": [
    "Ans - d. Type I error"
   ]
  },
  {
   "cell_type": "code",
   "execution_count": null,
   "id": "951e161c",
   "metadata": {},
   "outputs": [],
   "source": []
  },
  {
   "cell_type": "code",
   "execution_count": null,
   "id": "9d1de7d2",
   "metadata": {},
   "outputs": [],
   "source": [
    "4.For finding the p-value when the population standard deviation is unknown, if it is reasonable to assume that the \n",
    "population is normal, we use\n",
    "a. the z distribution\n",
    "b. the t distribution with n - 1 degrees of freedom\n",
    "c. the t distribution with n + 1 degrees of freedom\n",
    "d. none of the above"
   ]
  },
  {
   "cell_type": "code",
   "execution_count": null,
   "id": "3b202268",
   "metadata": {},
   "outputs": [],
   "source": [
    "Ans - b. the t distribution with n - 1 degrees of freedom"
   ]
  },
  {
   "cell_type": "code",
   "execution_count": null,
   "id": "caee5cfa",
   "metadata": {},
   "outputs": [],
   "source": []
  },
  {
   "cell_type": "code",
   "execution_count": null,
   "id": "555fc609",
   "metadata": {},
   "outputs": [],
   "source": [
    "5. A Type II error is the error of\n",
    "a. accepting Ho when it is false\n",
    "b. accepting Ho when it is true\n",
    "c. rejecting Ho when it is false\n",
    "d. rejecting Ho when it is true"
   ]
  },
  {
   "cell_type": "code",
   "execution_count": null,
   "id": "3a8a2b1a",
   "metadata": {},
   "outputs": [],
   "source": [
    "Ans - c. rejecting Ho when it is false"
   ]
  },
  {
   "cell_type": "code",
   "execution_count": null,
   "id": "6fa1da1f",
   "metadata": {},
   "outputs": [],
   "source": []
  },
  {
   "cell_type": "code",
   "execution_count": null,
   "id": "4080ace2",
   "metadata": {},
   "outputs": [],
   "source": [
    "6. A hypothesis test in which rejection of the null hypothesis occurs for values of the point estimator in either tail of \n",
    "the sampling distribution is called\n",
    "a. the null hypothesis\n",
    "b. the alternative hypothesis\n",
    "c. a one-tailed test\n",
    "d. a two-tailed test"
   ]
  },
  {
   "cell_type": "code",
   "execution_count": null,
   "id": "842a7d4e",
   "metadata": {},
   "outputs": [],
   "source": [
    "Ans - d. a two-tailed test"
   ]
  },
  {
   "cell_type": "code",
   "execution_count": null,
   "id": "7f902178",
   "metadata": {},
   "outputs": [],
   "source": []
  },
  {
   "cell_type": "code",
   "execution_count": null,
   "id": "21bbfbfb",
   "metadata": {},
   "outputs": [],
   "source": [
    "7. In hypothesis testing, the level of significance is\n",
    "a. the probability of committing a Type II error\n",
    "b. the probability of committing a Type I error\n",
    "c. the probability of either a Type I or Type II, depending on the hypothesis to be tested\n",
    "d. none of the above"
   ]
  },
  {
   "cell_type": "code",
   "execution_count": null,
   "id": "6eb1ec1b",
   "metadata": {},
   "outputs": [],
   "source": [
    "Ans - b. the probability of committing a Type I error"
   ]
  },
  {
   "cell_type": "code",
   "execution_count": null,
   "id": "8c9c3d04",
   "metadata": {},
   "outputs": [],
   "source": []
  },
  {
   "cell_type": "code",
   "execution_count": null,
   "id": "7c3a1530",
   "metadata": {},
   "outputs": [],
   "source": [
    "8. In hypothesis testing, b is\n",
    "a. the probability of committing a Type II error\n",
    "b. the probability of committing a Type I error\n",
    "c. the probability of either a Type I or Type II, depending on the hypothesis to be test\n",
    "d. none of the above"
   ]
  },
  {
   "cell_type": "code",
   "execution_count": null,
   "id": "9219cee8",
   "metadata": {},
   "outputs": [],
   "source": [
    "Ans - a. the probability of committing a Type II error"
   ]
  },
  {
   "cell_type": "code",
   "execution_count": null,
   "id": "c5a61bbb",
   "metadata": {},
   "outputs": [],
   "source": []
  },
  {
   "cell_type": "code",
   "execution_count": null,
   "id": "8cf374de",
   "metadata": {},
   "outputs": [],
   "source": [
    "9. When testing the following hypotheses at an α level of significance\n",
    "H0: p = 0.7\n",
    "H1: p > 0.7\n",
    "The null hypothesis will be rejected if the test statistic Z is\n",
    "a. z > zα\n",
    "b. z < zα\n",
    "c. z < -z\n",
    "d. none of the above"
   ]
  },
  {
   "cell_type": "code",
   "execution_count": null,
   "id": "fce74edd",
   "metadata": {},
   "outputs": [],
   "source": [
    "Ans - c. z < -z"
   ]
  },
  {
   "cell_type": "code",
   "execution_count": null,
   "id": "6540bd82",
   "metadata": {},
   "outputs": [],
   "source": []
  },
  {
   "cell_type": "code",
   "execution_count": null,
   "id": "0454feaf",
   "metadata": {},
   "outputs": [],
   "source": [
    "10. Which of the following does not need to be known in order to compute the P-value?\n",
    "a. knowledge of whether the test is one-tailed or two-tail\n",
    "b. the value of the test statistic\n",
    "c. the level of significance\n",
    "d. All of the above are needed"
   ]
  },
  {
   "cell_type": "code",
   "execution_count": null,
   "id": "b46a68b2",
   "metadata": {},
   "outputs": [],
   "source": [
    "Ans - d. All of the above are needed"
   ]
  },
  {
   "cell_type": "code",
   "execution_count": null,
   "id": "6ad42938",
   "metadata": {},
   "outputs": [],
   "source": []
  },
  {
   "cell_type": "code",
   "execution_count": null,
   "id": "b84d4a44",
   "metadata": {},
   "outputs": [],
   "source": [
    "11. The maximum probability of a Type I error that the decision maker will tolerate is called the\n",
    "a. level of significance\n",
    "b. critical value\n",
    "c. decision value\n",
    "d. probability value"
   ]
  },
  {
   "cell_type": "code",
   "execution_count": null,
   "id": "f9325f2e",
   "metadata": {},
   "outputs": [],
   "source": [
    "Ans - a. level of significance"
   ]
  },
  {
   "cell_type": "code",
   "execution_count": null,
   "id": "cd2b5a95",
   "metadata": {},
   "outputs": [],
   "source": []
  },
  {
   "cell_type": "code",
   "execution_count": null,
   "id": "5f3076ad",
   "metadata": {},
   "outputs": [],
   "source": [
    "12. For t distribution, increasing the sample size, the effect will be on\n",
    "a. Degrees of Freedom\n",
    "b. The t-ratio\n",
    "c. Standard Error of the Means\n",
    "d. All of the Above"
   ]
  },
  {
   "cell_type": "code",
   "execution_count": null,
   "id": "f5dbf41a",
   "metadata": {},
   "outputs": [],
   "source": [
    "Ans - d. All of the above"
   ]
  },
  {
   "cell_type": "code",
   "execution_count": null,
   "id": "2e37b0f4",
   "metadata": {},
   "outputs": [],
   "source": []
  },
  {
   "cell_type": "code",
   "execution_count": null,
   "id": "c757f051",
   "metadata": {},
   "outputs": [],
   "source": []
  },
  {
   "cell_type": "markdown",
   "id": "81488eb2",
   "metadata": {},
   "source": [
    "Q13 to Q15 are subjective answers type questions. Answers them in their own words briefly."
   ]
  },
  {
   "cell_type": "code",
   "execution_count": null,
   "id": "ded888e5",
   "metadata": {},
   "outputs": [],
   "source": [
    "13. What is Anova in SPSS?"
   ]
  },
  {
   "cell_type": "code",
   "execution_count": null,
   "id": "3223cfaa",
   "metadata": {},
   "outputs": [],
   "source": [
    "Ans - Anova in SPSS - Analysis of Variance is used for the examining difference in the mean values of the dependent varriable\n",
    "                      associated with the effect of controlled independent varriables."
   ]
  },
  {
   "cell_type": "code",
   "execution_count": null,
   "id": "1684246e",
   "metadata": {},
   "outputs": [],
   "source": []
  },
  {
   "cell_type": "code",
   "execution_count": null,
   "id": "83ea1d84",
   "metadata": {},
   "outputs": [],
   "source": [
    "14. What are the assumptions of Anova?"
   ]
  },
  {
   "cell_type": "code",
   "execution_count": null,
   "id": "cb0fa916",
   "metadata": {},
   "outputs": [],
   "source": [
    "Ans - It is a 3 assumption of Anova.\n",
    "    a. The responses of esch factor level have a normal population distribution.\n",
    "    b. These distribution have the same varriance.\n",
    "    c. The data are independent."
   ]
  },
  {
   "cell_type": "code",
   "execution_count": null,
   "id": "bce9d4fa",
   "metadata": {},
   "outputs": [],
   "source": []
  },
  {
   "cell_type": "code",
   "execution_count": null,
   "id": "ef01ae30",
   "metadata": {},
   "outputs": [],
   "source": [
    "15. What is the difference between one way Anova and two way Anova"
   ]
  },
  {
   "cell_type": "code",
   "execution_count": null,
   "id": "dbd53030",
   "metadata": {},
   "outputs": [],
   "source": [
    "Ans -The only difference between one-way and two-way ANOVA is the number of independent variables. \n",
    "     A one-way ANOVA has one independent variable, while a two-way ANOVA has two."
   ]
  },
  {
   "cell_type": "code",
   "execution_count": null,
   "id": "bfa07a4a",
   "metadata": {},
   "outputs": [],
   "source": []
  },
  {
   "cell_type": "code",
   "execution_count": null,
   "id": "e095ad3e",
   "metadata": {},
   "outputs": [],
   "source": []
  },
  {
   "cell_type": "markdown",
   "id": "f8e6eed3",
   "metadata": {},
   "source": [
    "# WorkSet_2\n",
    "\n",
    "# Machine Learning Worksheet_2"
   ]
  },
  {
   "cell_type": "code",
   "execution_count": null,
   "id": "e5d018fc",
   "metadata": {},
   "outputs": [],
   "source": [
    "1. Which of the following are disadvantages of using Hard Margin SVM classifier? \n",
    "A) They allow misclassifications, that’s why they are not optimal.\n",
    "B) They cannot be used when the data is not completely linearly separable while allowing no errors.\n",
    "C) They are not optimal to use in case of outliers.\n",
    "D) None of the above."
   ]
  },
  {
   "cell_type": "markdown",
   "id": "ce02f23f",
   "metadata": {},
   "source": [
    "Ans - D) None of the above."
   ]
  },
  {
   "cell_type": "code",
   "execution_count": null,
   "id": "2e63a2b7",
   "metadata": {},
   "outputs": [],
   "source": []
  },
  {
   "cell_type": "code",
   "execution_count": null,
   "id": "57a22224",
   "metadata": {},
   "outputs": [],
   "source": [
    "2. Which of the following statements are true regarding maximal margin classifier? \n",
    "A) It is the most optimal classifier in a completely linearly separable data. \n",
    "B) It’s the classifier for which the margin length or the distance between the closest data-point on either\n",
    "side of the classifier and the classifier is maximized. \n",
    "C) Any possible classifier which can linearly separate the data of two classes is called maximal margin \n",
    "classifier.\n",
    "D) All of the above."
   ]
  },
  {
   "cell_type": "markdown",
   "id": "11e45015",
   "metadata": {},
   "source": [
    "Ans - D) All of the above."
   ]
  },
  {
   "cell_type": "code",
   "execution_count": null,
   "id": "9be3741f",
   "metadata": {},
   "outputs": [],
   "source": []
  },
  {
   "cell_type": "code",
   "execution_count": null,
   "id": "30f79a6a",
   "metadata": {},
   "outputs": [],
   "source": [
    "3. Which of the following statements are true regarding soft margin SVM classifier? \n",
    "A) They are less sensitive to outliers and can be used even in their presence. \n",
    "B) They make sure that there is no data point present in the margin area. \n",
    "C) They allow some degree of errors or misclassification.\n",
    "D) They can be used in case data is not completely linearly separable."
   ]
  },
  {
   "cell_type": "markdown",
   "id": "08bacf36",
   "metadata": {},
   "source": [
    "Ans - B) They make sure that there is no data point present in the margin area."
   ]
  },
  {
   "cell_type": "code",
   "execution_count": null,
   "id": "39fc74f2",
   "metadata": {},
   "outputs": [],
   "source": []
  },
  {
   "cell_type": "code",
   "execution_count": null,
   "id": "d44bb4b4",
   "metadata": {},
   "outputs": [],
   "source": [
    "4. Which of the following statements are true regarding SVMs? \n",
    "A) They take the data from lower dimensional space to some higher dimensional space in case the \n",
    "data is not likely to be linearly separable.\n",
    "B) They use the kernel tricks to escape the complex computations required to transform the data.\n",
    "C) If the data is not linearly separable SVM technique cannot be used.\n",
    "D) All of the above."
   ]
  },
  {
   "cell_type": "markdown",
   "id": "af86f5cd",
   "metadata": {},
   "source": [
    "Ans - D) All of the above."
   ]
  },
  {
   "cell_type": "code",
   "execution_count": null,
   "id": "d0060916",
   "metadata": {},
   "outputs": [],
   "source": []
  },
  {
   "cell_type": "code",
   "execution_count": null,
   "id": "a21a4218",
   "metadata": {},
   "outputs": [],
   "source": [
    "5. Which of the following Statements are true regarding the Kernel functions used in SVM?\n",
    "A) These functions gives value of the dot product of pairs of data-points in the desired higher. \n",
    "dimensional space without even explicitly converting the whole data in to higher dimensional space.\n",
    "B) We have to first convert the whole data in to the higher dimensional space before applying the \n",
    "kernel function.\n",
    "C) The data product values given by the kernel functions are used to find the classifier in the higher \n",
    "dimensional space. \n",
    "D) None of the above "
   ]
  },
  {
   "cell_type": "markdown",
   "id": "09cbcdd8",
   "metadata": {},
   "source": [
    "Ans - c) The data product values given by the kernel functions are used to find the classifier in the higher \n",
    "dimensional space."
   ]
  },
  {
   "cell_type": "code",
   "execution_count": null,
   "id": "48844e07",
   "metadata": {},
   "outputs": [],
   "source": []
  },
  {
   "cell_type": "code",
   "execution_count": null,
   "id": "9e6e5231",
   "metadata": {},
   "outputs": [],
   "source": [
    "6. How can SVM be classified?\n",
    "A) It is a model trained using unsupervised learning. It can be used for classification and regression.\n",
    "B) It is a model trained using unsupervised learning. It can be used for classification but not for\n",
    "regression\n",
    "C) It is a model trained using supervised learning. It can be used for classification and regression.\n",
    "D) It is a model trained using supervised learning. It can be used for classification not for regression."
   ]
  },
  {
   "cell_type": "markdown",
   "id": "5a903558",
   "metadata": {},
   "source": [
    "Ans - C) It is a model trained using supervised learning. It can be used for classification and regression."
   ]
  },
  {
   "cell_type": "code",
   "execution_count": null,
   "id": "56ca4046",
   "metadata": {},
   "outputs": [],
   "source": []
  },
  {
   "cell_type": "code",
   "execution_count": null,
   "id": "5fb16170",
   "metadata": {},
   "outputs": [],
   "source": [
    "7. The quality of an SVM model depends upon:\n",
    "A) Selection of Kernel \n",
    "B) Kernel Parameters\n",
    "C) Soft Margin Parameter C \n",
    "D) All of the above"
   ]
  },
  {
   "cell_type": "markdown",
   "id": "e286fadf",
   "metadata": {},
   "source": [
    "Ans - D) All of the above"
   ]
  },
  {
   "cell_type": "code",
   "execution_count": null,
   "id": "a629bc56",
   "metadata": {},
   "outputs": [],
   "source": []
  },
  {
   "cell_type": "code",
   "execution_count": null,
   "id": "69e7bc84",
   "metadata": {},
   "outputs": [],
   "source": [
    "8. The SVM’s are less effective when:\n",
    "A) The data is linearly separable.\n",
    "B) The data is clean and ready to use.\n",
    "C) The data is noisy and contains overlapping points.\n",
    "D) None of these."
   ]
  },
  {
   "cell_type": "markdown",
   "id": "a64364b7",
   "metadata": {},
   "source": [
    "Ans - C) The data is noisy and contains overlapping points."
   ]
  },
  {
   "cell_type": "code",
   "execution_count": null,
   "id": "5dd0ad34",
   "metadata": {},
   "outputs": [],
   "source": []
  },
  {
   "cell_type": "code",
   "execution_count": null,
   "id": "80256eb0",
   "metadata": {},
   "outputs": [],
   "source": [
    "9. What would happen when you use very small C (C~0)?\n",
    "A) Misclassification would happen.\n",
    "B) Data will be correctly classified.\n",
    "C) Can’t say\n",
    "D) None of these."
   ]
  },
  {
   "cell_type": "markdown",
   "id": "4a38ca70",
   "metadata": {},
   "source": [
    "Ans - A) Misclassification would happen."
   ]
  },
  {
   "cell_type": "code",
   "execution_count": null,
   "id": "c853f0a6",
   "metadata": {},
   "outputs": [],
   "source": []
  },
  {
   "cell_type": "code",
   "execution_count": null,
   "id": "8d8c2233",
   "metadata": {},
   "outputs": [],
   "source": [
    "10. What do you mean by generalization error in terms of the SVM?\n",
    "A) How far the hyperplane is from the support vectors.\n",
    "B) How accurately the SVM can predict outcomes for unseen data.\n",
    "C) The threshold amount of error in an SVM.\n",
    "D) None of these"
   ]
  },
  {
   "cell_type": "markdown",
   "id": "f672c59b",
   "metadata": {},
   "source": [
    "Ans - B) How accurately the SVM can predict outcomes for unseen data."
   ]
  },
  {
   "cell_type": "code",
   "execution_count": null,
   "id": "f3fc76a5",
   "metadata": {},
   "outputs": [],
   "source": []
  },
  {
   "cell_type": "code",
   "execution_count": null,
   "id": "57e2e69d",
   "metadata": {},
   "outputs": [],
   "source": []
  },
  {
   "cell_type": "markdown",
   "id": "bb897722",
   "metadata": {},
   "source": [
    "# Python Worksheet set_2"
   ]
  },
  {
   "cell_type": "markdown",
   "id": "10005254",
   "metadata": {},
   "source": [
    "Q1 to Q7 have only one correct answer. Choose the correct option to answer your question. "
   ]
  },
  {
   "cell_type": "code",
   "execution_count": null,
   "id": "b4f36659",
   "metadata": {},
   "outputs": [],
   "source": [
    "1. Which of the following is not a core datatype in python? \n",
    "A) list B) struct \n",
    "C) tuple C) set"
   ]
  },
  {
   "cell_type": "markdown",
   "id": "62b6ba60",
   "metadata": {},
   "source": [
    "Ans - B) Structure"
   ]
  },
  {
   "cell_type": "code",
   "execution_count": null,
   "id": "4b4191d1",
   "metadata": {},
   "outputs": [],
   "source": []
  },
  {
   "cell_type": "code",
   "execution_count": null,
   "id": "1106f0c5",
   "metadata": {},
   "outputs": [],
   "source": []
  },
  {
   "cell_type": "code",
   "execution_count": null,
   "id": "0e72440b",
   "metadata": {},
   "outputs": [],
   "source": [
    "Q2. Which of the following is an invalid variable name in python? \n",
    "A) _init_ B) no_1 \n",
    "C) 1_no D) _1 "
   ]
  },
  {
   "cell_type": "code",
   "execution_count": null,
   "id": "6fd078f4",
   "metadata": {},
   "outputs": [],
   "source": [
    "Ans - C) 1_no"
   ]
  },
  {
   "cell_type": "code",
   "execution_count": null,
   "id": "d8411178",
   "metadata": {},
   "outputs": [],
   "source": []
  },
  {
   "cell_type": "code",
   "execution_count": null,
   "id": "4de17930",
   "metadata": {},
   "outputs": [],
   "source": [
    "Q3. Which one of the following is a keyword in python? \n",
    "A) in B) _init_ \n",
    "C) on D) foo "
   ]
  },
  {
   "cell_type": "code",
   "execution_count": null,
   "id": "2d3ed3f7",
   "metadata": {},
   "outputs": [],
   "source": [
    "Ans - A) in"
   ]
  },
  {
   "cell_type": "code",
   "execution_count": null,
   "id": "d78d3a38",
   "metadata": {},
   "outputs": [],
   "source": []
  },
  {
   "cell_type": "code",
   "execution_count": null,
   "id": "ca64c4fa",
   "metadata": {},
   "outputs": [],
   "source": [
    "Q4. In which of the following manner are the operators of the same precedence executed in python? \n",
    "A) Left to Right B) BODMAS \n",
    "C) Right to Left D) None of these"
   ]
  },
  {
   "cell_type": "code",
   "execution_count": null,
   "id": "aa27d79b",
   "metadata": {},
   "outputs": [],
   "source": [
    "Ans - B) BODMAS"
   ]
  },
  {
   "cell_type": "code",
   "execution_count": null,
   "id": "1e438314",
   "metadata": {},
   "outputs": [],
   "source": []
  },
  {
   "cell_type": "code",
   "execution_count": null,
   "id": "cf504286",
   "metadata": {},
   "outputs": [],
   "source": [
    "Q5. Arrange the following in decreasing order of the precedence when they appear in an expression in python? \n",
    "i) Multiplication ii) Division iii) Exponential iv) Parentheses \n",
    "A) iii – iv – ii – i B) iii – iv – i – ii \n",
    "C) iv – iii – ii – i D) iii – ii – i – iv "
   ]
  },
  {
   "cell_type": "code",
   "execution_count": null,
   "id": "21900c2e",
   "metadata": {},
   "outputs": [],
   "source": [
    "Ans - c) iV - iii - ii- i"
   ]
  },
  {
   "cell_type": "code",
   "execution_count": null,
   "id": "ae2ddc31",
   "metadata": {},
   "outputs": [],
   "source": []
  },
  {
   "cell_type": "code",
   "execution_count": null,
   "id": "145df445",
   "metadata": {},
   "outputs": [],
   "source": [
    "Q6. (28//6)**3/3%3 = ? \n",
    "A) 7.1111… B) 0 \n",
    "C) 0.3333… D) 1"
   ]
  },
  {
   "cell_type": "code",
   "execution_count": null,
   "id": "44faca9b",
   "metadata": {},
   "outputs": [],
   "source": [
    "Ans - D) 1"
   ]
  },
  {
   "cell_type": "code",
   "execution_count": null,
   "id": "4d20e484",
   "metadata": {},
   "outputs": [],
   "source": []
  },
  {
   "cell_type": "code",
   "execution_count": null,
   "id": "260528e2",
   "metadata": {},
   "outputs": [],
   "source": [
    "Q7. input(“Enter an integer”). What will be the data type of a? \n",
    "A) int B) str \n",
    "C) float D) double"
   ]
  },
  {
   "cell_type": "code",
   "execution_count": null,
   "id": "0d7d1b5f",
   "metadata": {},
   "outputs": [],
   "source": [
    "Ans - A) int"
   ]
  },
  {
   "cell_type": "code",
   "execution_count": null,
   "id": "eff9e1aa",
   "metadata": {},
   "outputs": [],
   "source": []
  },
  {
   "cell_type": "markdown",
   "id": "ca38cb21",
   "metadata": {},
   "source": [
    "Q8 and Q10 have multiple correct answers. Choose all the correct options to answer your question."
   ]
  },
  {
   "cell_type": "code",
   "execution_count": null,
   "id": "256d940b",
   "metadata": {},
   "outputs": [],
   "source": [
    "Q8. Which of the following statements are correct? \n",
    "A) Division and multiplication have same precedence in python \n",
    "B) Python’s operators’ precedence is based on PEDMAS \n",
    "C) Python’s operators’ precedence is based on VBODMAS \n",
    "D) In case of operators’ having the same precedence, the one on the left side is executed\n",
    " first."
   ]
  },
  {
   "cell_type": "code",
   "execution_count": null,
   "id": "0f07784f",
   "metadata": {},
   "outputs": [],
   "source": [
    "Ans - B) Python’s operators’ precedence is based on PEDMAS\n",
    "      A) Division and multiplication have same precedence in python"
   ]
  },
  {
   "cell_type": "code",
   "execution_count": null,
   "id": "b72a29ff",
   "metadata": {},
   "outputs": [],
   "source": []
  },
  {
   "cell_type": "code",
   "execution_count": null,
   "id": "7ba01e4a",
   "metadata": {},
   "outputs": [],
   "source": [
    "Q9. Which of the following is(are) valid statement(s) in python? \n",
    "A) abc = 1,000,000 B) a b c = 1000 2000 3000 \n",
    "C) a,b,c = 1000, 2000, 3000 D) a_b_c = 1,000,000"
   ]
  },
  {
   "cell_type": "code",
   "execution_count": null,
   "id": "e6f45584",
   "metadata": {},
   "outputs": [],
   "source": [
    "Ans - A) abc = 1,000,000\n",
    "      C) a,b,c = 1000, 2000, 3000\n",
    "      D) a_b_c = 1,000,000"
   ]
  },
  {
   "cell_type": "code",
   "execution_count": null,
   "id": "02996f87",
   "metadata": {},
   "outputs": [],
   "source": []
  },
  {
   "cell_type": "code",
   "execution_count": null,
   "id": "f95ae1e8",
   "metadata": {},
   "outputs": [],
   "source": [
    "Q10. Which of the following is not equal to x16 in \n",
    "python? \n",
    "A) x**4**4 B) x**16 \n",
    "C) x^16 D) (x**4)**4"
   ]
  },
  {
   "cell_type": "markdown",
   "id": "35c18285",
   "metadata": {},
   "source": [
    "Ans - A) x**4**4\n",
    "      C) x^16 \n",
    "      D) (x**4)**4"
   ]
  },
  {
   "cell_type": "code",
   "execution_count": null,
   "id": "a025ab89",
   "metadata": {},
   "outputs": [],
   "source": []
  },
  {
   "cell_type": "markdown",
   "id": "6b122e78",
   "metadata": {},
   "source": [
    "Q11 to Q13 are subjective questions, answer them briefly "
   ]
  },
  {
   "cell_type": "code",
   "execution_count": null,
   "id": "1addb6c2",
   "metadata": {},
   "outputs": [],
   "source": [
    "11. Differentiate between a list, tuple, set and dictionary. "
   ]
  },
  {
   "cell_type": "markdown",
   "id": "bec9be25",
   "metadata": {},
   "source": [
    "Ans - List =  List is an order collection of itoms are index they are mutable (we can change data inside even after collection)\n",
    "              and they can contain the duplicate value as well as. they can create  the list wwith square bracket [] sign and \n",
    "              commas seprately.\n",
    "     \n",
    "      Tuple = Its collection of values or objects. It is a similar to the list. It works collection of the elements.\n",
    "              Tuples are available in bracket () and It is a immutable.\n",
    "            \n",
    "    Set =  Its a collection of unorder (itoms) [No index], each elements in set must be immutable, unique and sets remove\n",
    "          the duplicate elements. Sets are immutable hich means does not change the value or cannot modify after creation.\n",
    "            \n",
    "    Dictionary = A dictionary consists of a collection Key value pairs. It is a availabe in curle bracket{}."
   ]
  },
  {
   "cell_type": "code",
   "execution_count": null,
   "id": "75b5acef",
   "metadata": {},
   "outputs": [],
   "source": []
  },
  {
   "cell_type": "code",
   "execution_count": null,
   "id": "45ed7fd9",
   "metadata": {},
   "outputs": [],
   "source": [
    "12. Are strings mutable in python? Suppose you have a string “I+Love+Python”, write a small code to replace ‘+’ \n",
    "with space in python. "
   ]
  },
  {
   "cell_type": "code",
   "execution_count": 3,
   "id": "b56e25f1",
   "metadata": {},
   "outputs": [],
   "source": [
    "message = \"I love Python\""
   ]
  },
  {
   "cell_type": "code",
   "execution_count": 4,
   "id": "71dacb39",
   "metadata": {},
   "outputs": [
    {
     "name": "stdout",
     "output_type": "stream",
     "text": [
      "I love Python\n"
     ]
    }
   ],
   "source": [
    "print(message)"
   ]
  },
  {
   "cell_type": "code",
   "execution_count": null,
   "id": "29854ff4",
   "metadata": {},
   "outputs": [],
   "source": []
  },
  {
   "cell_type": "code",
   "execution_count": null,
   "id": "9693d6b4",
   "metadata": {},
   "outputs": [],
   "source": [
    "13. What does the function ord() do in python? Explain with an example. Also, write down the function for \n",
    "getting the data type of a variable in python."
   ]
  },
  {
   "cell_type": "markdown",
   "id": "39d32cf8",
   "metadata": {},
   "source": [
    "Ans -  The ord() function returns the number representing the unicode code of a specified character."
   ]
  },
  {
   "cell_type": "code",
   "execution_count": null,
   "id": "aefe5b28",
   "metadata": {},
   "outputs": [],
   "source": []
  },
  {
   "cell_type": "code",
   "execution_count": null,
   "id": "7fc6ecf8",
   "metadata": {},
   "outputs": [],
   "source": []
  },
  {
   "cell_type": "markdown",
   "id": "ff6c2a92",
   "metadata": {},
   "source": [
    "Q14 and Q15 are programming questions. Answer them in Jupyter Notebook"
   ]
  },
  {
   "cell_type": "code",
   "execution_count": null,
   "id": "8d7c1f4b",
   "metadata": {},
   "outputs": [],
   "source": [
    "14. Write a python program to solve a quadratic equation of the form ax^2+bx+c=0. Where a, b and c are to be \n",
    "taken by user input. Handle the erroneous input, such as ‘a’ should not be equal to 0."
   ]
  },
  {
   "cell_type": "code",
   "execution_count": null,
   "id": "f5f1c837",
   "metadata": {},
   "outputs": [],
   "source": []
  },
  {
   "cell_type": "code",
   "execution_count": null,
   "id": "ea4727a4",
   "metadata": {},
   "outputs": [],
   "source": []
  },
  {
   "cell_type": "code",
   "execution_count": null,
   "id": "c10ef85a",
   "metadata": {},
   "outputs": [],
   "source": [
    "15. Write a python program to find the sum of first ‘n’ natural numbers without using any loop. Ask users to \n",
    "input the value of ‘n’"
   ]
  },
  {
   "cell_type": "markdown",
   "id": "fb7b979e",
   "metadata": {},
   "source": [
    "Ans - Accept the number n from a user. Use input() function to accept integer number from a user.\n",
    "      Run a loop till the entered number. Next, run a for loop till the entered number using the range() function. ...\n",
    "    Calculate the sum. ...\n",
    "    Calculate the average\n",
    "    \n",
    "    \n",
    "num = int(input(\"Enter the value of n: \"))\n",
    "hold = num\n",
    "sum = 0\n",
    "\n",
    "if num <= 0: \n",
    "   print(\"Enter a whole positive number!\") \n",
    "else: \n",
    "   while num > 0:\n",
    "        sum = sum + num\n",
    "        num = num - 1;\n",
    "    # displaying output\n",
    "    print(\"Sum of first\", hold, \"natural numbers is: \", sum)"
   ]
  },
  {
   "cell_type": "code",
   "execution_count": null,
   "id": "f65546e9",
   "metadata": {},
   "outputs": [],
   "source": []
  },
  {
   "cell_type": "code",
   "execution_count": null,
   "id": "025618fc",
   "metadata": {},
   "outputs": [],
   "source": []
  },
  {
   "cell_type": "markdown",
   "id": "3a31c9b4",
   "metadata": {},
   "source": [
    "# Statistics WorkSheetset_2"
   ]
  },
  {
   "cell_type": "code",
   "execution_count": null,
   "id": "58b4f472",
   "metadata": {},
   "outputs": [],
   "source": []
  },
  {
   "cell_type": "markdown",
   "id": "4a512385",
   "metadata": {},
   "source": [
    "Q1 to Q12 have only one correct answer. Choose the correct option to answer your question."
   ]
  },
  {
   "cell_type": "code",
   "execution_count": null,
   "id": "6b92b641",
   "metadata": {},
   "outputs": [],
   "source": [
    "1. The owner of a travel agency would like to determine whether or not the mean age of the agency's customers is over \n",
    "24. If so, he plans to alter the destination of their special cruises and tours. If he concludes the mean age is over 24 \n",
    "when it is not, he makes a _______ error. If he concludes the mean age is not over 24 when it is, he makes a \n",
    "______error. \n",
    "a. Type II; Type II \n",
    "b. Type I; Type I \n",
    "c. Type I; Type II \n",
    "d. Type II; Type I"
   ]
  },
  {
   "cell_type": "markdown",
   "id": "31e7bc3f",
   "metadata": {},
   "source": [
    "Ans - c. Type I ; Type II"
   ]
  },
  {
   "cell_type": "code",
   "execution_count": null,
   "id": "99b538ee",
   "metadata": {},
   "outputs": [],
   "source": []
  },
  {
   "cell_type": "code",
   "execution_count": null,
   "id": "b465f0bd",
   "metadata": {},
   "outputs": [],
   "source": [
    "2. Suppose we wish to test H0: µ =53 vs H1: µ > 53. What will result if we conclude that the mean is greater than 53 \n",
    "when its true value is really 55? \n",
    "a. We have made a Type I error \n",
    "b. We have made a correct decision \n",
    "c. We have made a Type II error \n",
    "d. None of the above are correct "
   ]
  },
  {
   "cell_type": "markdown",
   "id": "dcc3d542",
   "metadata": {},
   "source": [
    "Ans - b. We have made a correct decision"
   ]
  },
  {
   "cell_type": "code",
   "execution_count": null,
   "id": "586e9e3f",
   "metadata": {},
   "outputs": [],
   "source": []
  },
  {
   "cell_type": "code",
   "execution_count": null,
   "id": "cbf5f665",
   "metadata": {},
   "outputs": [],
   "source": [
    "3. The value that separates a rejection region from an acceptance region is called a ___________. \n",
    "a. parameter \n",
    "b. critical value \n",
    "c. confidence coefficient \n",
    "d. significance level "
   ]
  },
  {
   "cell_type": "markdown",
   "id": "20060dd5",
   "metadata": {},
   "source": [
    "Ans - b. critical value "
   ]
  },
  {
   "cell_type": "code",
   "execution_count": null,
   "id": "4dca6643",
   "metadata": {},
   "outputs": [],
   "source": []
  },
  {
   "cell_type": "code",
   "execution_count": null,
   "id": "bd0f1d7f",
   "metadata": {},
   "outputs": [],
   "source": [
    "4. A hypothesis test is used to prevent a machine from under filling or overfilling quart bottles of beer. On the basis of \n",
    "sample, the machine is shut down for inspection. A thorough examination reveals there is nothing wrong with the \n",
    "filling machine. From a statistical point of view: \n",
    "a. Both Type I and Type II errors were made. \n",
    "b. A Type I error was made. \n",
    "c. A Type II error was made. \n",
    "d. A correct decision was made. "
   ]
  },
  {
   "cell_type": "code",
   "execution_count": null,
   "id": "f26a2853",
   "metadata": {},
   "outputs": [],
   "source": []
  },
  {
   "cell_type": "code",
   "execution_count": null,
   "id": "61c9f866",
   "metadata": {},
   "outputs": [],
   "source": []
  },
  {
   "cell_type": "code",
   "execution_count": null,
   "id": "28320fa1",
   "metadata": {},
   "outputs": [],
   "source": [
    "5. Suppose we wish to test H0 : µ =21 vs H1 : µ > 21. Which of the following possible sample results gives the most \n",
    "evidence to support H1 (i.e., reject H0)? Hint: Compute Z-score.\n",
    "a. x = 23 s , = 3 \n",
    "b. x = 19 s , = 4 \n",
    "c. x = 17 s , = 7 \n",
    "d. x = 18 s , = 6 "
   ]
  },
  {
   "cell_type": "markdown",
   "id": "7afb75a2",
   "metadata": {},
   "source": [
    "Ans - c. x = 17 s , = 7 "
   ]
  },
  {
   "cell_type": "code",
   "execution_count": null,
   "id": "3e768a61",
   "metadata": {},
   "outputs": [],
   "source": []
  },
  {
   "cell_type": "code",
   "execution_count": null,
   "id": "217f3d94",
   "metadata": {},
   "outputs": [],
   "source": [
    "6. Given H0: µ = 25, H1: µ ≠ 25, and P-value = 0.041. Do you reject or fail to reject H0 at the 0.01 level of \n",
    "significance? \n",
    "a. fail to reject H0 \n",
    "b. not sufficient information to decide \n",
    "c. reject H0"
   ]
  },
  {
   "cell_type": "markdown",
   "id": "0f5dc20a",
   "metadata": {},
   "source": [
    "Ans - a. fail to reject H0 "
   ]
  },
  {
   "cell_type": "code",
   "execution_count": null,
   "id": "65f150c5",
   "metadata": {},
   "outputs": [],
   "source": []
  },
  {
   "cell_type": "code",
   "execution_count": null,
   "id": "27b57792",
   "metadata": {},
   "outputs": [],
   "source": [
    "7. A bottling company needs to produce bottles that will hold 12 ounces of liquid. Periodically, the company gets \n",
    "complaints that their bottles are not holding enough liquid. To test this claim, the bottling company randomly samples \n",
    "36 bottles. Suppose the p-value of this test turned out to be 0.0455. State the proper conclusion. \n",
    "a. At α = 0.085, fail to reject the null hypothesis. \n",
    "b. At α = 0.035, accept the null hypothesis. \n",
    "c. At α = 0.05, reject the null hypothesis. \n",
    "d. At α = 0.025, reject the null hypothesis. "
   ]
  },
  {
   "cell_type": "code",
   "execution_count": null,
   "id": "009088c4",
   "metadata": {},
   "outputs": [],
   "source": []
  },
  {
   "cell_type": "code",
   "execution_count": null,
   "id": "e9695e16",
   "metadata": {},
   "outputs": [],
   "source": []
  },
  {
   "cell_type": "code",
   "execution_count": null,
   "id": "ed48797f",
   "metadata": {},
   "outputs": [],
   "source": [
    "8. If a hypothesis test were conducted using α = 0.05, for which of the following p-values would the null hypothesis be \n",
    "rejected? \n",
    "a. 0.100 \n",
    "b. 0.041 \n",
    "c. 0.055 \n",
    "d. 0.060 "
   ]
  },
  {
   "cell_type": "markdown",
   "id": "7f2e0624",
   "metadata": {},
   "source": [
    "Ans - b. 0.041 "
   ]
  },
  {
   "cell_type": "code",
   "execution_count": null,
   "id": "d41fbb05",
   "metadata": {},
   "outputs": [],
   "source": []
  },
  {
   "cell_type": "code",
   "execution_count": null,
   "id": "b942f85b",
   "metadata": {},
   "outputs": [],
   "source": [
    "9 . For H1: µ > µ0 p-value is 0.042. What will be the p-value for Ha: µ < µo? \n",
    "a. 0.084 \n",
    "b. 0.021 \n",
    "c. 0.958 \n",
    "d. 0.042 "
   ]
  },
  {
   "cell_type": "markdown",
   "id": "7b688347",
   "metadata": {},
   "source": [
    "Ans - c. 0.958 "
   ]
  },
  {
   "cell_type": "code",
   "execution_count": null,
   "id": "eda2c0e4",
   "metadata": {},
   "outputs": [],
   "source": []
  },
  {
   "cell_type": "code",
   "execution_count": null,
   "id": "6ab9d04d",
   "metadata": {},
   "outputs": [],
   "source": [
    "10. The test statistic is t = 2.63 and the p-value is 0.9849. What type of test is this? \n",
    "a. Right tail \n",
    "b. Two tail \n",
    "c. Left tail \n",
    "d. Can't tell"
   ]
  },
  {
   "cell_type": "markdown",
   "id": "ed554802",
   "metadata": {},
   "source": [
    "Ans - c. Left tail "
   ]
  },
  {
   "cell_type": "code",
   "execution_count": null,
   "id": "2cdac9d0",
   "metadata": {},
   "outputs": [],
   "source": []
  },
  {
   "cell_type": "code",
   "execution_count": null,
   "id": "98eb8c2f",
   "metadata": {},
   "outputs": [],
   "source": [
    "11. The test statistic is z =2.75, the critical value is z = 2.326. The p- value is …\n",
    "a. Less than the significance level \n",
    "b. Equal to the significance level \n",
    "c. Large than the significance level "
   ]
  },
  {
   "cell_type": "markdown",
   "id": "66fbb44c",
   "metadata": {},
   "source": [
    "Ans - a. Less than the significance level"
   ]
  },
  {
   "cell_type": "code",
   "execution_count": null,
   "id": "cd85e7c1",
   "metadata": {},
   "outputs": [],
   "source": []
  },
  {
   "cell_type": "code",
   "execution_count": null,
   "id": "6c30d5ca",
   "metadata": {},
   "outputs": [],
   "source": [
    "12. The area to the left of the test statistic is 0.375. What is the probability value if this is a left tail test? \n",
    "a. 0.750 \n",
    "b. 0.375 \n",
    "c. 0.1885 \n",
    "d. 0.625"
   ]
  },
  {
   "cell_type": "markdown",
   "id": "95a75795",
   "metadata": {},
   "source": [
    "Ans - b. 0.375 "
   ]
  },
  {
   "cell_type": "code",
   "execution_count": null,
   "id": "672e35d2",
   "metadata": {},
   "outputs": [],
   "source": []
  },
  {
   "cell_type": "markdown",
   "id": "4ffde7df",
   "metadata": {},
   "source": [
    "Q13 to Q15 are subjective answers type questions, Answers them in their own words briefly."
   ]
  },
  {
   "cell_type": "code",
   "execution_count": null,
   "id": "99bd5584",
   "metadata": {},
   "outputs": [],
   "source": [
    "13.What is T distribution and Z distribution?"
   ]
  },
  {
   "cell_type": "markdown",
   "id": "ccdffcbd",
   "metadata": {},
   "source": [
    "Ans- The standard normal or z-distribution assumes that you know the population standard deviation. \n",
    "     The Z distribution is a special case of the normal distribution with a mean of 0 and standard deviation of 1. \n",
    "     The t-distribution is similar to the Z-distribution\n",
    "    \n",
    "     The t-distribution is based on the sample standard deviation.is sensitive to sample size and is used for small or moderate\n",
    "        samples when the population standard deviation is unknown."
   ]
  },
  {
   "cell_type": "code",
   "execution_count": null,
   "id": "493407f1",
   "metadata": {},
   "outputs": [],
   "source": []
  },
  {
   "cell_type": "code",
   "execution_count": null,
   "id": "b5a0c37f",
   "metadata": {},
   "outputs": [],
   "source": [
    "14.Is the T distribution normal?"
   ]
  },
  {
   "cell_type": "markdown",
   "id": "83798fd5",
   "metadata": {},
   "source": [
    "Ans - The purpose of the t-test is to compare certain characteristics representing groups, and the mean values\n",
    "      become representative when the population has a normal distribution."
   ]
  },
  {
   "cell_type": "code",
   "execution_count": null,
   "id": "28130ae2",
   "metadata": {},
   "outputs": [],
   "source": []
  },
  {
   "cell_type": "code",
   "execution_count": null,
   "id": "ebf87bc8",
   "metadata": {},
   "outputs": [],
   "source": [
    "15.What does the T distribution tell us?"
   ]
  },
  {
   "cell_type": "markdown",
   "id": "520fcb57",
   "metadata": {},
   "source": [
    "Ans - describes the standardized distances of sample means to the population mean when the population standard deviation \n",
    "      is not known, and the observations come from a normally distributed population."
   ]
  },
  {
   "cell_type": "code",
   "execution_count": null,
   "id": "e892f82b",
   "metadata": {},
   "outputs": [],
   "source": []
  },
  {
   "cell_type": "markdown",
   "id": "1fc23cdf",
   "metadata": {},
   "source": []
  },
  {
   "cell_type": "markdown",
   "id": "aba98bed",
   "metadata": {},
   "source": [
    "# WorkSet_3"
   ]
  },
  {
   "cell_type": "markdown",
   "id": "cc3b8439",
   "metadata": {},
   "source": [
    "# Machine Learning Worksheet Set_3"
   ]
  },
  {
   "cell_type": "markdown",
   "id": "b636e0f0",
   "metadata": {},
   "source": [
    "In Q1 to Q8, only one option is correct, Choose the correct option: "
   ]
  },
  {
   "cell_type": "code",
   "execution_count": null,
   "id": "1b7f6a69",
   "metadata": {},
   "outputs": [],
   "source": [
    "1. In the linear regression equation y = θ0 + θ1x, θ0 is the:\n",
    "A) Slope of the line B) Independent variable \n",
    "C) y intercept D) Coefficient of determination"
   ]
  },
  {
   "cell_type": "markdown",
   "id": "866a421a",
   "metadata": {},
   "source": [
    "Ans - B) Independent variable "
   ]
  },
  {
   "cell_type": "code",
   "execution_count": null,
   "id": "f59e6e63",
   "metadata": {},
   "outputs": [],
   "source": []
  },
  {
   "cell_type": "code",
   "execution_count": null,
   "id": "04a8bb88",
   "metadata": {},
   "outputs": [],
   "source": [
    "2. True or False: Linear Regression is a supervised learning algorithm.\n",
    "A) True B) False"
   ]
  },
  {
   "cell_type": "markdown",
   "id": "1fcfb9fa",
   "metadata": {},
   "source": [
    "Ans - A) True"
   ]
  },
  {
   "cell_type": "code",
   "execution_count": null,
   "id": "84ab5a24",
   "metadata": {},
   "outputs": [],
   "source": []
  },
  {
   "cell_type": "code",
   "execution_count": null,
   "id": "5daccf3a",
   "metadata": {},
   "outputs": [],
   "source": [
    "3. In regression analysis, the variable that is being predicted is:\n",
    "A) the independent variable B) the dependent variable \n",
    "C) usually denoted by x D) usually denoted by r"
   ]
  },
  {
   "cell_type": "markdown",
   "id": "e6479de7",
   "metadata": {},
   "source": [
    "Ans - B) the dependent variable "
   ]
  },
  {
   "cell_type": "code",
   "execution_count": null,
   "id": "b7806b6c",
   "metadata": {},
   "outputs": [],
   "source": []
  },
  {
   "cell_type": "code",
   "execution_count": null,
   "id": "0b9c8ffe",
   "metadata": {},
   "outputs": [],
   "source": [
    "4. Generally, which of the following method(s) is used for predicting continuous \n",
    "dependent variables?\n",
    "A) Logistic Regression B) Linear Regression \n",
    "C) Both D) None of the above"
   ]
  },
  {
   "cell_type": "markdown",
   "id": "1163be05",
   "metadata": {},
   "source": [
    "Ans - B) Linear Regression"
   ]
  },
  {
   "cell_type": "code",
   "execution_count": null,
   "id": "ed608090",
   "metadata": {},
   "outputs": [],
   "source": []
  },
  {
   "cell_type": "code",
   "execution_count": null,
   "id": "11282ae8",
   "metadata": {},
   "outputs": [],
   "source": [
    "5. The coefficient of determination is: \n",
    "A) the square root of the correlation coefficient B) usually less than zero \n",
    "C) the correlation coefficient squared D) equal to zero"
   ]
  },
  {
   "cell_type": "markdown",
   "id": "edfaa1bc",
   "metadata": {},
   "source": [
    "Ans - C) the correlation coefficient squared"
   ]
  },
  {
   "cell_type": "code",
   "execution_count": null,
   "id": "466b8a17",
   "metadata": {},
   "outputs": [],
   "source": []
  },
  {
   "cell_type": "code",
   "execution_count": null,
   "id": "6d14f5be",
   "metadata": {},
   "outputs": [],
   "source": [
    "6. If the slope of the regression equation is positive, then: \n",
    "A) y decreases as x increases B) y increases as x increases\n",
    "C) y decreases as x decreases D) None of these"
   ]
  },
  {
   "cell_type": "markdown",
   "id": "459340f8",
   "metadata": {},
   "source": [
    "Ans - B) y increases as x increases"
   ]
  },
  {
   "cell_type": "code",
   "execution_count": null,
   "id": "457205dc",
   "metadata": {},
   "outputs": [],
   "source": []
  },
  {
   "cell_type": "code",
   "execution_count": null,
   "id": "6d947dbd",
   "metadata": {},
   "outputs": [],
   "source": [
    "7. Linear Regression works best for: \n",
    "A) linear data B) non-linear data \n",
    "C) both linear and non-linear data D) None of the above "
   ]
  },
  {
   "cell_type": "markdown",
   "id": "8250228d",
   "metadata": {},
   "source": [
    "Ans - C) both linear and non-linear data"
   ]
  },
  {
   "cell_type": "code",
   "execution_count": null,
   "id": "c52c109c",
   "metadata": {},
   "outputs": [],
   "source": []
  },
  {
   "cell_type": "code",
   "execution_count": null,
   "id": "35caf16c",
   "metadata": {},
   "outputs": [],
   "source": [
    "8. The coefficient of determination can be in the range of: \n",
    "A) 0 to 1 B) -1 to 1 \n",
    "C) -1 to 0 D) 0 to infinity "
   ]
  },
  {
   "cell_type": "markdown",
   "id": "40818504",
   "metadata": {},
   "source": [
    "Ans - A)  0 to 1 "
   ]
  },
  {
   "cell_type": "code",
   "execution_count": null,
   "id": "eca6b134",
   "metadata": {},
   "outputs": [],
   "source": []
  },
  {
   "cell_type": "markdown",
   "id": "cbd56b46",
   "metadata": {},
   "source": [
    "In Q9 to Q13, more than one options are correct, Choose all the correct options: "
   ]
  },
  {
   "cell_type": "code",
   "execution_count": null,
   "id": "63d77cec",
   "metadata": {},
   "outputs": [],
   "source": [
    "9. Which of the following evaluation metrics can be used for linear regression? \n",
    "A) Classification Report B) RMSE \n",
    "C) ROC curve D) MAE "
   ]
  },
  {
   "cell_type": "markdown",
   "id": "3c50d6ed",
   "metadata": {},
   "source": [
    "Ans - B) RMSE \n",
    "      D) MAE"
   ]
  },
  {
   "cell_type": "code",
   "execution_count": null,
   "id": "2e27fe47",
   "metadata": {},
   "outputs": [],
   "source": []
  },
  {
   "cell_type": "code",
   "execution_count": null,
   "id": "23a70ce2",
   "metadata": {},
   "outputs": [],
   "source": [
    "10. Which of the following is true for linear regression? \n",
    "A) Linear regression is a supervised learning algorithm. \n",
    "B) Linear regression supports multi-collinearity. \n",
    "C) Shape of linear regression’s cost function is convex. \n",
    "D) Linear regression is used to predict discrete dependent variable"
   ]
  },
  {
   "cell_type": "markdown",
   "id": "aa6a49c9",
   "metadata": {},
   "source": [
    "Ans - A) Linear regression is a supervised learning algorithm. \n",
    "      B) Linear regression supports multi-collinearity."
   ]
  },
  {
   "cell_type": "code",
   "execution_count": null,
   "id": "d2a3b7e9",
   "metadata": {},
   "outputs": [],
   "source": []
  },
  {
   "cell_type": "code",
   "execution_count": null,
   "id": "769a4854",
   "metadata": {},
   "outputs": [],
   "source": [
    " 11. Which of the following regularizations can be applied to linear regression?\n",
    "A) Ridge B) Lasso \n",
    "C) Pruning D) Elastic Net "
   ]
  },
  {
   "cell_type": "markdown",
   "id": "07a1651f",
   "metadata": {},
   "source": [
    "Ans - A) Ridge B) Lasso D) Elastic Net"
   ]
  },
  {
   "cell_type": "code",
   "execution_count": null,
   "id": "96424014",
   "metadata": {},
   "outputs": [],
   "source": []
  },
  {
   "cell_type": "code",
   "execution_count": null,
   "id": "1910089c",
   "metadata": {},
   "outputs": [],
   "source": [
    "12. Linear regression performs better for: \n",
    "A) Large amount of training samples with small number of features.\n",
    "B) Same number of features and training samples \n",
    "C) Large number of features \n",
    "D) The variables which are drawn independently, identically distributed "
   ]
  },
  {
   "cell_type": "markdown",
   "id": "3a6a5d80",
   "metadata": {},
   "source": [
    "Ans - A) Large amount of training samples with small number of features.\n",
    "      B) Same number of features and training samples \n",
    "      C) Large number of features "
   ]
  },
  {
   "cell_type": "code",
   "execution_count": null,
   "id": "c195906f",
   "metadata": {},
   "outputs": [],
   "source": []
  },
  {
   "cell_type": "code",
   "execution_count": null,
   "id": "14071a51",
   "metadata": {},
   "outputs": [],
   "source": [
    "13. Which of the following assumptions are true for linear regression? \n",
    "A) Linearity B) Homoscedasticity \n",
    "C) Non-Independent D) Normality"
   ]
  },
  {
   "cell_type": "markdown",
   "id": "fb094e0d",
   "metadata": {},
   "source": [
    "Ans - A) Linearity B) Homoscedasticity  D) Normality"
   ]
  },
  {
   "cell_type": "code",
   "execution_count": null,
   "id": "4d7d1ee0",
   "metadata": {},
   "outputs": [],
   "source": []
  },
  {
   "cell_type": "markdown",
   "id": "3b520110",
   "metadata": {},
   "source": [
    "Q14 and Q15 are subjective answer type questions, Answer them briefly."
   ]
  },
  {
   "cell_type": "code",
   "execution_count": null,
   "id": "fd2bb86c",
   "metadata": {},
   "outputs": [],
   "source": [
    "14. Explain Linear Regression? "
   ]
  },
  {
   "cell_type": "markdown",
   "id": "e4ac0f70",
   "metadata": {},
   "source": [
    "Ans - Linear regression analysis is used to predict the value of a variable based on the value of another variable. \n",
    "The variable you want to predict is called the dependent variable. The variable you are using to predict the other variable's \n",
    "value is called the independent variable."
   ]
  },
  {
   "cell_type": "code",
   "execution_count": null,
   "id": "9a371e9c",
   "metadata": {},
   "outputs": [],
   "source": []
  },
  {
   "cell_type": "code",
   "execution_count": null,
   "id": "18a2ec54",
   "metadata": {},
   "outputs": [],
   "source": [
    "15. What is difference between simple linear and multiple linear regression?"
   ]
  },
  {
   "cell_type": "markdown",
   "id": "87546888",
   "metadata": {},
   "source": [
    "Ans - Simple linear regression has only one x and one y variable. \n",
    "      Multiple linear regression has one y and two or more x variables."
   ]
  },
  {
   "cell_type": "code",
   "execution_count": null,
   "id": "548c65d4",
   "metadata": {},
   "outputs": [],
   "source": []
  },
  {
   "cell_type": "markdown",
   "id": "91fa61d2",
   "metadata": {},
   "source": [
    "# Python Worksheet set_3"
   ]
  },
  {
   "cell_type": "markdown",
   "id": "c343c772",
   "metadata": {},
   "source": [
    "Q1 to Q8 have only one correct answer. Choose the correct option to answer your question."
   ]
  },
  {
   "cell_type": "code",
   "execution_count": null,
   "id": "554ef179",
   "metadata": {},
   "outputs": [],
   "source": [
    "1. Which of the following will raise a value error in python? \n",
    "A) int(32) B) int(3.2) \n",
    "C) int(-3.2) D) int(‘32’) "
   ]
  },
  {
   "cell_type": "markdown",
   "id": "2363c61d",
   "metadata": {},
   "source": [
    "Ans - D) int(‘32’) "
   ]
  },
  {
   "cell_type": "code",
   "execution_count": null,
   "id": "d9c53575",
   "metadata": {},
   "outputs": [],
   "source": []
  },
  {
   "cell_type": "code",
   "execution_count": null,
   "id": "cff568b8",
   "metadata": {},
   "outputs": [],
   "source": [
    "2. What will be the output of round(3.567)? \n",
    "A) 3.5 B) 3.0 \n",
    "C) 4 D) 3"
   ]
  },
  {
   "cell_type": "markdown",
   "id": "5cc93c2f",
   "metadata": {},
   "source": [
    "Ans - C) 4"
   ]
  },
  {
   "cell_type": "code",
   "execution_count": null,
   "id": "83e82f85",
   "metadata": {},
   "outputs": [],
   "source": []
  },
  {
   "cell_type": "code",
   "execution_count": null,
   "id": "4fafadcf",
   "metadata": {},
   "outputs": [],
   "source": [
    "3. How is the function pow(a,b,c) evaluated in python? \n",
    "A) a**b**c B) (a**b)%c \n",
    "C) (a**b)*c D) (a**b)**c "
   ]
  },
  {
   "cell_type": "markdown",
   "id": "35682023",
   "metadata": {},
   "source": [
    "Ans - (a**b)%c "
   ]
  },
  {
   "cell_type": "code",
   "execution_count": null,
   "id": "42ba5887",
   "metadata": {},
   "outputs": [],
   "source": []
  },
  {
   "cell_type": "code",
   "execution_count": null,
   "id": "9c6520ce",
   "metadata": {},
   "outputs": [],
   "source": [
    "4. What will be the output of print(type(type(int))) in python 3? \n",
    "A) <class ‘type’> B) <type ‘type’> \n",
    "C) <class ‘int’> D) <type ‘int’> "
   ]
  },
  {
   "cell_type": "markdown",
   "id": "4e2ebc23",
   "metadata": {},
   "source": [
    "Ans - A) <class ‘type’> "
   ]
  },
  {
   "cell_type": "code",
   "execution_count": null,
   "id": "e4aa7fb5",
   "metadata": {},
   "outputs": [],
   "source": []
  },
  {
   "cell_type": "code",
   "execution_count": null,
   "id": "a05c01c6",
   "metadata": {},
   "outputs": [],
   "source": [
    "5. What will be the output of ord(chr(65))? \n",
    "A) ‘A’ B) ‘a’ \n",
    "C) 65 D) TypeError "
   ]
  },
  {
   "cell_type": "markdown",
   "id": "25583348",
   "metadata": {},
   "source": [
    "Ans - C) 65"
   ]
  },
  {
   "cell_type": "code",
   "execution_count": null,
   "id": "45a96f4f",
   "metadata": {},
   "outputs": [],
   "source": []
  },
  {
   "cell_type": "code",
   "execution_count": null,
   "id": "28c9052a",
   "metadata": {},
   "outputs": [],
   "source": [
    "6. What is called when a function is defined inside a class? \n",
    "A) Module B) Function \n",
    "C) _init_ function D) Method "
   ]
  },
  {
   "cell_type": "markdown",
   "id": "ca8b6bd5",
   "metadata": {},
   "source": [
    "Ans - C) _init_ function"
   ]
  },
  {
   "cell_type": "code",
   "execution_count": null,
   "id": "2e80187a",
   "metadata": {},
   "outputs": [],
   "source": []
  },
  {
   "cell_type": "code",
   "execution_count": null,
   "id": "6651b164",
   "metadata": {},
   "outputs": [],
   "source": [
    "7. What will be the output of all([1, 0, 5 ,7])? \n",
    "A) 0 B) False \n",
    "C) True D) error "
   ]
  },
  {
   "cell_type": "markdown",
   "id": "646a3dcf",
   "metadata": {},
   "source": [
    "Ans - B) False "
   ]
  },
  {
   "cell_type": "code",
   "execution_count": null,
   "id": "7d9f9d05",
   "metadata": {},
   "outputs": [],
   "source": []
  },
  {
   "cell_type": "code",
   "execution_count": null,
   "id": "74453639",
   "metadata": {},
   "outputs": [],
   "source": [
    "8. Is the output of the function abs() the same as that of the function math.fabs()? \n",
    "A) Always B) Sometimes \n",
    "C) Never D) None of these"
   ]
  },
  {
   "cell_type": "markdown",
   "id": "d5de3ee6",
   "metadata": {},
   "source": [
    "Ans - A) Always"
   ]
  },
  {
   "cell_type": "code",
   "execution_count": null,
   "id": "95e5d7de",
   "metadata": {},
   "outputs": [],
   "source": []
  },
  {
   "cell_type": "markdown",
   "id": "8b6c039f",
   "metadata": {},
   "source": [
    "Q9 and Q10 have multiple correct answers. Choose all the correct options to answer your question. "
   ]
  },
  {
   "cell_type": "code",
   "execution_count": null,
   "id": "fbe93fbe",
   "metadata": {},
   "outputs": [],
   "source": [
    "9. Select all correct float numbers in python? \n",
    "A) -68.7e100 B) 42e3 \n",
    "C) 4.2038 D) 3.0 \n"
   ]
  },
  {
   "cell_type": "markdown",
   "id": "237744bb",
   "metadata": {},
   "source": [
    "Ans - A) -68.7e100 C) 4.2038 D) 3.0 "
   ]
  },
  {
   "cell_type": "code",
   "execution_count": null,
   "id": "3e8c6cde",
   "metadata": {},
   "outputs": [],
   "source": []
  },
  {
   "cell_type": "code",
   "execution_count": null,
   "id": "8d8efc95",
   "metadata": {},
   "outputs": [],
   "source": [
    "10. Which of the following is(are) correct statement(s) in python? \n",
    "A) You can pass positional arguments in any order. \n",
    "B) You can pass keyword arguments in any order. \n",
    "C) You can call a function with positional and keyword arguments. \n",
    "D) Positional arguments must be before keyword arguments in a function call"
   ]
  },
  {
   "cell_type": "markdown",
   "id": "b381b247",
   "metadata": {},
   "source": [
    "Ans - A) You can pass positional arguments in any order. \n",
    "B) You can pass keyword arguments in any order. \n",
    "C) You can call a function with positional and keyword arguments. "
   ]
  },
  {
   "cell_type": "code",
   "execution_count": null,
   "id": "89d8603d",
   "metadata": {},
   "outputs": [],
   "source": []
  },
  {
   "cell_type": "code",
   "execution_count": null,
   "id": "7396acba",
   "metadata": {},
   "outputs": [],
   "source": []
  },
  {
   "cell_type": "markdown",
   "id": "fca89acf",
   "metadata": {},
   "source": [
    "# Statiatics Worksheet set_3"
   ]
  },
  {
   "cell_type": "markdown",
   "id": "c0c28ee1",
   "metadata": {},
   "source": [
    "Q1 to Q12 have only one correct answer. Choose the correct option to answer your question."
   ]
  },
  {
   "cell_type": "code",
   "execution_count": null,
   "id": "62ee56f5",
   "metadata": {},
   "outputs": [],
   "source": [
    "1. Rejection of the null hypothesis is a conclusive proof that the alternative hypothesis is\n",
    "a. True\n",
    "b. False\n",
    "c. Neither"
   ]
  },
  {
   "cell_type": "markdown",
   "id": "d420d7d5",
   "metadata": {},
   "source": [
    "Ans - c. Neither"
   ]
  },
  {
   "cell_type": "code",
   "execution_count": null,
   "id": "e5a7716e",
   "metadata": {},
   "outputs": [],
   "source": []
  },
  {
   "cell_type": "code",
   "execution_count": null,
   "id": "03aed1ba",
   "metadata": {},
   "outputs": [],
   "source": [
    "2. Parametric test, unlike the non-parametric tests, make certain assumptions about\n",
    "a. The population size\n",
    "b. The underlying distribution\n",
    "c. The sample size"
   ]
  },
  {
   "cell_type": "markdown",
   "id": "8375f4cc",
   "metadata": {},
   "source": [
    "Ans - b. The underlying distribution"
   ]
  },
  {
   "cell_type": "code",
   "execution_count": null,
   "id": "65e8c258",
   "metadata": {},
   "outputs": [],
   "source": []
  },
  {
   "cell_type": "code",
   "execution_count": null,
   "id": "ffc085fe",
   "metadata": {},
   "outputs": [],
   "source": [
    "3. The level of significance can be viewed as the amount of risk that an analyst will accept when making a decision\n",
    "a. True\n",
    "b. False"
   ]
  },
  {
   "cell_type": "markdown",
   "id": "77817864",
   "metadata": {},
   "source": [
    "Ans - a. True"
   ]
  },
  {
   "cell_type": "code",
   "execution_count": null,
   "id": "96a5978f",
   "metadata": {},
   "outputs": [],
   "source": []
  },
  {
   "cell_type": "code",
   "execution_count": null,
   "id": "324333df",
   "metadata": {},
   "outputs": [],
   "source": [
    "4. By taking a level of significance of 5% it is the same as saying\n",
    "a. We are 5% confident the results have not occurred by chance\n",
    "b. We are 95% confident that the results have not occurred by chance\n",
    "c. We are 95% confident that the results have occurred by chance"
   ]
  },
  {
   "cell_type": "markdown",
   "id": "9096dbb5",
   "metadata": {},
   "source": [
    "Ans - b. We are 95% confident that the results have not occurred by chance"
   ]
  },
  {
   "cell_type": "code",
   "execution_count": null,
   "id": "56613b38",
   "metadata": {},
   "outputs": [],
   "source": []
  },
  {
   "cell_type": "code",
   "execution_count": null,
   "id": "82cb4c78",
   "metadata": {},
   "outputs": [],
   "source": [
    "5. One or two tail test will determine\n",
    "a. If the two extreme values (min or max) of the sample need to be rejected\n",
    "b. If the hypothesis has one or possible two conclusions\n",
    "c. If the region of rejection is located in one or two tails of the distribution"
   ]
  },
  {
   "cell_type": "markdown",
   "id": "f67fade4",
   "metadata": {},
   "source": [
    "Ans - c. If the region of rejection is located in one or two tails of the distribution"
   ]
  },
  {
   "cell_type": "code",
   "execution_count": null,
   "id": "d6bf332f",
   "metadata": {},
   "outputs": [],
   "source": []
  },
  {
   "cell_type": "code",
   "execution_count": null,
   "id": "06948f2b",
   "metadata": {},
   "outputs": [],
   "source": [
    "6. Two types of errors associated with hypothesis testing are Type I and Type II. Type II error is committed when\n",
    "a. We reject the null hypothesis whilst the alternative hypothesis is true\n",
    "b. We reject a null hypothesis when it is true\n",
    "c. We accept a null hypothesis when it is not true"
   ]
  },
  {
   "cell_type": "markdown",
   "id": "f90ba94e",
   "metadata": {},
   "source": [
    "Ans - c. We accept a null hypothesis when it is not true"
   ]
  },
  {
   "cell_type": "code",
   "execution_count": null,
   "id": "72cbe58d",
   "metadata": {},
   "outputs": [],
   "source": []
  },
  {
   "cell_type": "code",
   "execution_count": null,
   "id": "b4747222",
   "metadata": {},
   "outputs": [],
   "source": [
    "7. A randomly selected sample of 1,000 college students was asked whether they had ever used the drug Ecstasy. \n",
    "Sixteen percent (16% or 0.16) of the 1,000 students surveyed said they had. Which one of the following statements \n",
    "about the number 0.16 is correct? \n",
    "a. It is a sample proportion. \n",
    "b. It is a population proportion. \n",
    "c. It is a margin of error. \n",
    "d. It is a randomly chosen number."
   ]
  },
  {
   "cell_type": "markdown",
   "id": "29c11beb",
   "metadata": {},
   "source": [
    "Ans - a. It is a sample proportion."
   ]
  },
  {
   "cell_type": "code",
   "execution_count": null,
   "id": "3577e4d2",
   "metadata": {},
   "outputs": [],
   "source": []
  },
  {
   "cell_type": "code",
   "execution_count": null,
   "id": "c9631814",
   "metadata": {},
   "outputs": [],
   "source": [
    "8. In a random sample of 1000 students, pˆ = 0.80 (or 80%) were in favour of longer hours at the school library. The \n",
    "standard error of pˆ (the sample proportion) is \n",
    "a. .013 \n",
    "b. .160 \n",
    "c. .640 \n",
    "d. .800"
   ]
  },
  {
   "cell_type": "markdown",
   "id": "df925d39",
   "metadata": {},
   "source": [
    "Ans - a. .013 "
   ]
  },
  {
   "cell_type": "code",
   "execution_count": null,
   "id": "141123e2",
   "metadata": {},
   "outputs": [],
   "source": []
  },
  {
   "cell_type": "code",
   "execution_count": null,
   "id": "ad6b7dc8",
   "metadata": {},
   "outputs": [],
   "source": [
    "9. For a random sample of 9 women, the average resting pulse rate is x = 76 beats per minute, and the sample standard \n",
    "deviation is s = 5. The standard error of the sample mean is \n",
    "a. 0.557 \n",
    "b. 0.745 \n",
    "c. 1.667 \n",
    "d. 2.778 "
   ]
  },
  {
   "cell_type": "markdown",
   "id": "5117026e",
   "metadata": {},
   "source": [
    "Ans - c. 1.667 "
   ]
  },
  {
   "cell_type": "code",
   "execution_count": null,
   "id": "1a6c2935",
   "metadata": {},
   "outputs": [],
   "source": []
  },
  {
   "cell_type": "code",
   "execution_count": null,
   "id": "5c76f354",
   "metadata": {},
   "outputs": [],
   "source": [
    "10. Assume the cholesterol levels in a certain population have mean µ= 200 and standard deviation σ = 24. The \n",
    "cholesterol levels for a random sample of n = 9 individuals are measured and the sample mean x is determined. What \n",
    "is the z-score for a sample mean x = 180? \n",
    "a. –3.75 \n",
    "c. –2.50 \n",
    "c. −0.83 \n",
    "d. 2.50 "
   ]
  },
  {
   "cell_type": "markdown",
   "id": "6d2fb969",
   "metadata": {},
   "source": [
    "Ans - c. –2.50 "
   ]
  },
  {
   "cell_type": "code",
   "execution_count": null,
   "id": "9ecee6e6",
   "metadata": {},
   "outputs": [],
   "source": []
  },
  {
   "cell_type": "code",
   "execution_count": null,
   "id": "ba35d3ba",
   "metadata": {},
   "outputs": [],
   "source": [
    "11. In a past General Social Survey, a random sample of men and women answered the question “Are you a member \n",
    "of any sports clubs?” Based on the sample data, 95% confidence intervals for the population proportion who would \n",
    "answer “yes” are .13 to .19 for women and .247 to .33 for men. Based on these results, you can reasonably conclude \n",
    "that \n",
    "a. At leastbb 25% of American men and American women belong to sports clubs. \n",
    "b. At least 16% of American women belong to sports clubs. \n",
    "c. There is a difference between the proportions of American men and American women who belong to sports clubs. \n",
    "d. There is no conclusive evidence of a gender difference in the proportion belonging to sports clubs."
   ]
  },
  {
   "cell_type": "markdown",
   "id": "626d94fc",
   "metadata": {},
   "source": [
    "Ans - c. There is a difference between the proportions of American men and American women who belong to sports clubs. "
   ]
  },
  {
   "cell_type": "code",
   "execution_count": null,
   "id": "56810c72",
   "metadata": {},
   "outputs": [],
   "source": []
  },
  {
   "cell_type": "code",
   "execution_count": null,
   "id": "6329c1a1",
   "metadata": {},
   "outputs": [],
   "source": [
    "12. Suppose a 95% confidence interval for the proportion of Americans who exercise regularly is 0.29 to 0.37. Which \n",
    "one of the following statements is FALSE? \n",
    "a. It is reasonable to say that more than 25% of Americans exercise regularly. \n",
    "b. It is reasonable to say that more than 40% of Americans exercise regularly. \n",
    "c. The hypothesis that 33% of Americans exercise regularly cannot be rejected. \n",
    "d. It is reasonable to say that fewer than 40% of Americans exercise regularly. "
   ]
  },
  {
   "cell_type": "markdown",
   "id": "8c9637c3",
   "metadata": {},
   "source": [
    "Ans - b. It is reasonable to say that more than 40% of Americans exercise regularly. "
   ]
  },
  {
   "cell_type": "code",
   "execution_count": null,
   "id": "47849961",
   "metadata": {},
   "outputs": [],
   "source": []
  },
  {
   "cell_type": "markdown",
   "id": "f5568569",
   "metadata": {},
   "source": [
    "Q13 to Q15 are subjective answers type questions. Answers them in their own words briefly."
   ]
  },
  {
   "cell_type": "code",
   "execution_count": null,
   "id": "42228c06",
   "metadata": {},
   "outputs": [],
   "source": [
    "13. How do you find the test statistic for two samples?\n"
   ]
  },
  {
   "cell_type": "markdown",
   "id": "0439df2b",
   "metadata": {},
   "source": [
    "Ans - The test statistic for a two-sample independent t-test is calculated by taking the difference in the two sample means \n",
    "and dividing by either the pooled or unpooled estimated standard error. The estimated standard error is an aggregate measure \n",
    "of the amount of variation in both groups."
   ]
  },
  {
   "cell_type": "code",
   "execution_count": null,
   "id": "b406d037",
   "metadata": {},
   "outputs": [],
   "source": []
  },
  {
   "cell_type": "code",
   "execution_count": null,
   "id": "5a61bc94",
   "metadata": {},
   "outputs": [],
   "source": [
    "14. How do you find the sample mean difference?\n"
   ]
  },
  {
   "cell_type": "code",
   "execution_count": null,
   "id": "4e172ffe",
   "metadata": {},
   "outputs": [],
   "source": [
    "Ans - In statistics, there are two different averages: the sample mean and the population mean. The sample mean only considers\n",
    "    a selected number of observations—drawn from the population data"
   ]
  },
  {
   "cell_type": "code",
   "execution_count": null,
   "id": "1e853b2f",
   "metadata": {},
   "outputs": [],
   "source": []
  },
  {
   "cell_type": "code",
   "execution_count": null,
   "id": "6824715e",
   "metadata": {},
   "outputs": [],
   "source": [
    "15. What is a two sample t test example?"
   ]
  },
  {
   "cell_type": "markdown",
   "id": "685039a5",
   "metadata": {},
   "source": [
    " For the 2-sample t-test, the numerator is again the signal, which is the difference between the means of the two samples.\n",
    "    For example, if the mean of group 1 is 10, and the mean of group 2 is 4, the difference is 6."
   ]
  },
  {
   "cell_type": "code",
   "execution_count": null,
   "id": "02d627d6",
   "metadata": {},
   "outputs": [],
   "source": []
  },
  {
   "cell_type": "code",
   "execution_count": null,
   "id": "4279828b",
   "metadata": {},
   "outputs": [],
   "source": []
  },
  {
   "cell_type": "code",
   "execution_count": null,
   "id": "999b0d02",
   "metadata": {},
   "outputs": [],
   "source": []
  },
  {
   "cell_type": "code",
   "execution_count": null,
   "id": "33f366e6",
   "metadata": {},
   "outputs": [],
   "source": []
  },
  {
   "cell_type": "code",
   "execution_count": null,
   "id": "fa93a8b3",
   "metadata": {},
   "outputs": [],
   "source": []
  },
  {
   "cell_type": "code",
   "execution_count": null,
   "id": "c61df9e6",
   "metadata": {},
   "outputs": [],
   "source": []
  }
 ],
 "metadata": {
  "kernelspec": {
   "display_name": "Python 3 (ipykernel)",
   "language": "python",
   "name": "python3"
  },
  "language_info": {
   "codemirror_mode": {
    "name": "ipython",
    "version": 3
   },
   "file_extension": ".py",
   "mimetype": "text/x-python",
   "name": "python",
   "nbconvert_exporter": "python",
   "pygments_lexer": "ipython3",
   "version": "3.9.13"
  }
 },
 "nbformat": 4,
 "nbformat_minor": 5
}
