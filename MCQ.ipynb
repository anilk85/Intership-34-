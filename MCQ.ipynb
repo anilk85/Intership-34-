{
 "cells": [
  {
   "cell_type": "markdown",
   "id": "363b4fcb",
   "metadata": {},
   "source": [
    "MCQ - Multi choice Question"
   ]
  },
  {
   "cell_type": "code",
   "execution_count": null,
   "id": "1769a584",
   "metadata": {},
   "outputs": [],
   "source": [
    "1 What will be the output of the following code snippet?\n",
    "def func(a, b):\n",
    "    return b if a == 0 else func(b % a, a)\n",
    "print(func(30, 75))\n",
    "a) 10\n",
    "b) 20\n",
    "c) 15  ------  Correct\n",
    "d) 0"
   ]
  },
  {
   "cell_type": "code",
   "execution_count": 1,
   "id": "4e5bd7e6",
   "metadata": {},
   "outputs": [
    {
     "name": "stdout",
     "output_type": "stream",
     "text": [
      "15\n"
     ]
    }
   ],
   "source": [
    "def func(a,b):\n",
    "    return b if a == 0 else func(b % a, a)\n",
    "print(func(30,75))   "
   ]
  },
  {
   "cell_type": "code",
   "execution_count": null,
   "id": "468cfaaf",
   "metadata": {},
   "outputs": [],
   "source": []
  },
  {
   "cell_type": "code",
   "execution_count": null,
   "id": "58289775",
   "metadata": {},
   "outputs": [],
   "source": []
  },
  {
   "cell_type": "code",
   "execution_count": null,
   "id": "d9036972",
   "metadata": {},
   "outputs": [],
   "source": [
    "2 numbers = (4, 7, 19, 2, 89, 45, 72, 22)\n",
    "sorted_numbers = sorted(numbers)\n",
    "even = lambda a: a % 2 == 0\n",
    "even_numbers = filter(even, sorted_numbers)\n",
    "print(type(even_numbers))\n",
    "a) Int\n",
    "b) Filter -------- Correct\n",
    "c) List \n",
    "d) Tuple\n"
   ]
  },
  {
   "cell_type": "code",
   "execution_count": 2,
   "id": "4da3c67c",
   "metadata": {},
   "outputs": [],
   "source": [
    "number = (4,7,19,2,89,45,72,22)\n",
    "sorted_numbers = sorted(number)"
   ]
  },
  {
   "cell_type": "code",
   "execution_count": 6,
   "id": "c5e24b0e",
   "metadata": {},
   "outputs": [],
   "source": [
    "even = lambda a: a % 2 == 0\n",
    "even_numbers = filter(even, sorted_numbers)"
   ]
  },
  {
   "cell_type": "code",
   "execution_count": 7,
   "id": "035f42ca",
   "metadata": {},
   "outputs": [
    {
     "name": "stdout",
     "output_type": "stream",
     "text": [
      "<class 'filter'>\n"
     ]
    }
   ],
   "source": [
    "print(type(even_numbers))"
   ]
  },
  {
   "cell_type": "code",
   "execution_count": null,
   "id": "57ec6580",
   "metadata": {},
   "outputs": [],
   "source": []
  },
  {
   "cell_type": "code",
   "execution_count": null,
   "id": "5819afd0",
   "metadata": {},
   "outputs": [],
   "source": []
  },
  {
   "cell_type": "code",
   "execution_count": null,
   "id": "40405ae9",
   "metadata": {},
   "outputs": [],
   "source": [
    "3) As what datatype are the *args stored, when passed into\n",
    "a) Tuple ---------------- Correct\n",
    "b) List \n",
    "c) Dictionary \n",
    "d) none"
   ]
  },
  {
   "cell_type": "code",
   "execution_count": null,
   "id": "c496615b",
   "metadata": {},
   "outputs": [],
   "source": [
    "Ans - a) Tuple"
   ]
  },
  {
   "cell_type": "code",
   "execution_count": null,
   "id": "776e3eb5",
   "metadata": {},
   "outputs": [],
   "source": []
  },
  {
   "cell_type": "code",
   "execution_count": null,
   "id": "7846bbb2",
   "metadata": {},
   "outputs": [],
   "source": []
  },
  {
   "cell_type": "code",
   "execution_count": null,
   "id": "af74c799",
   "metadata": {},
   "outputs": [],
   "source": [
    "4) set1 = {14, 3, 55}\n",
    "set2 = {82, 49, 62}\n",
    "set3={99,22,17}\n",
    "print(len(set1 + set2 + set3))\n",
    "a) 105\n",
    "b) 270\n",
    "c) 0\n",
    "d) Error ------- Correct"
   ]
  },
  {
   "cell_type": "code",
   "execution_count": 11,
   "id": "510f64dd",
   "metadata": {},
   "outputs": [],
   "source": [
    "set1 = {14,3,55}\n",
    "set2 = {82,49,62}\n",
    "set3 = {99,22,17}"
   ]
  },
  {
   "cell_type": "code",
   "execution_count": 12,
   "id": "10418c4e",
   "metadata": {},
   "outputs": [
    {
     "ename": "TypeError",
     "evalue": "unsupported operand type(s) for +: 'set' and 'set'",
     "output_type": "error",
     "traceback": [
      "\u001b[1;31m---------------------------------------------------------------------------\u001b[0m",
      "\u001b[1;31mTypeError\u001b[0m                                 Traceback (most recent call last)",
      "\u001b[1;32m~\\AppData\\Local\\Temp\\ipykernel_8320\\2705101226.py\u001b[0m in \u001b[0;36m<module>\u001b[1;34m\u001b[0m\n\u001b[1;32m----> 1\u001b[1;33m \u001b[0mprint\u001b[0m\u001b[1;33m(\u001b[0m\u001b[0mlen\u001b[0m\u001b[1;33m(\u001b[0m\u001b[0mset1\u001b[0m\u001b[1;33m+\u001b[0m\u001b[0mset2\u001b[0m\u001b[1;33m+\u001b[0m\u001b[0mset3\u001b[0m\u001b[1;33m)\u001b[0m\u001b[1;33m)\u001b[0m\u001b[1;33m\u001b[0m\u001b[1;33m\u001b[0m\u001b[0m\n\u001b[0m",
      "\u001b[1;31mTypeError\u001b[0m: unsupported operand type(s) for +: 'set' and 'set'"
     ]
    }
   ],
   "source": [
    "print(len(set1+set2+set3))"
   ]
  },
  {
   "cell_type": "code",
   "execution_count": null,
   "id": "3173fa95",
   "metadata": {},
   "outputs": [],
   "source": []
  },
  {
   "cell_type": "code",
   "execution_count": null,
   "id": "dfa97782",
   "metadata": {},
   "outputs": [],
   "source": [
    "5) What keyword is used in Python to raise exceptions?\n",
    "a) raise ----------------- Correct\n",
    "b) try \n",
    "c) goto \n",
    "d) except\n"
   ]
  },
  {
   "cell_type": "code",
   "execution_count": null,
   "id": "c5ba79af",
   "metadata": {},
   "outputs": [],
   "source": [
    "Ans - a) raise"
   ]
  },
  {
   "cell_type": "code",
   "execution_count": null,
   "id": "f0f9469c",
   "metadata": {},
   "outputs": [],
   "source": []
  },
  {
   "cell_type": "code",
   "execution_count": null,
   "id": "f6b78050",
   "metadata": {},
   "outputs": [],
   "source": []
  },
  {
   "cell_type": "code",
   "execution_count": null,
   "id": "857b6ffc",
   "metadata": {},
   "outputs": [],
   "source": [
    "6) Which of the following modules need to be imported to handle date time computations in \n",
    "Python?\n",
    "a) timedate\n",
    "b) date\n",
    "c) datetime ------ Correct\n",
    "d) time\n"
   ]
  },
  {
   "cell_type": "code",
   "execution_count": null,
   "id": "23775a05",
   "metadata": {},
   "outputs": [],
   "source": [
    "Ans - c) import datetime"
   ]
  },
  {
   "cell_type": "code",
   "execution_count": null,
   "id": "7512a840",
   "metadata": {},
   "outputs": [],
   "source": []
  },
  {
   "cell_type": "code",
   "execution_count": null,
   "id": "b535e09b",
   "metadata": {},
   "outputs": [],
   "source": []
  },
  {
   "cell_type": "code",
   "execution_count": null,
   "id": "23882abe",
   "metadata": {},
   "outputs": [],
   "source": [
    "7) What will be the output of the following code snippet?\n",
    "print(4**3 + (7 + 5)**(1 + 1))\n",
    "a) 248\n",
    "b) 169\n",
    "c) 208  -------- Correct\n",
    "d) 233\n"
   ]
  },
  {
   "cell_type": "code",
   "execution_count": 13,
   "id": "b5541c1a",
   "metadata": {},
   "outputs": [
    {
     "name": "stdout",
     "output_type": "stream",
     "text": [
      "208\n"
     ]
    }
   ],
   "source": [
    "print(4**3 + (7 +5) **(1+1))"
   ]
  },
  {
   "cell_type": "code",
   "execution_count": null,
   "id": "972ddfe2",
   "metadata": {},
   "outputs": [],
   "source": []
  },
  {
   "cell_type": "code",
   "execution_count": null,
   "id": "7c5daa26",
   "metadata": {},
   "outputs": [],
   "source": []
  },
  {
   "cell_type": "code",
   "execution_count": null,
   "id": "64ae31d1",
   "metadata": {},
   "outputs": [],
   "source": [
    "8) Which of the following functions converts date to corresponding time in Python?\n",
    "a) strptime\n",
    "b) strftime ---------------------- Correct\n",
    "c) both a) and b)\n",
    "d) None\n"
   ]
  },
  {
   "cell_type": "code",
   "execution_count": null,
   "id": "3334e1d6",
   "metadata": {},
   "outputs": [],
   "source": [
    "Ans - a) strptime"
   ]
  },
  {
   "cell_type": "code",
   "execution_count": null,
   "id": "df4bb902",
   "metadata": {},
   "outputs": [],
   "source": []
  },
  {
   "cell_type": "code",
   "execution_count": null,
   "id": "ebfd82f8",
   "metadata": {},
   "outputs": [],
   "source": []
  },
  {
   "cell_type": "code",
   "execution_count": null,
   "id": "5fb76835",
   "metadata": {},
   "outputs": [],
   "source": [
    "9) The python tuple is _____ in nature.\n",
    "a) mutable\n",
    "b) immutable ----------------------- Correct\n",
    "c)unchangeable\n",
    "d) none \n"
   ]
  },
  {
   "cell_type": "code",
   "execution_count": null,
   "id": "ceed3b10",
   "metadata": {},
   "outputs": [],
   "source": [
    "Ans - b) immutable"
   ]
  },
  {
   "cell_type": "code",
   "execution_count": null,
   "id": "e02de947",
   "metadata": {},
   "outputs": [],
   "source": []
  },
  {
   "cell_type": "code",
   "execution_count": null,
   "id": "30038cc1",
   "metadata": {},
   "outputs": [],
   "source": []
  },
  {
   "cell_type": "code",
   "execution_count": null,
   "id": "5e0760e7",
   "metadata": {},
   "outputs": [],
   "source": [
    "10)\n",
    "The ___ is a built-in function that returns a range object that consists series of integer numbers, which \n",
    "we can iterate using a for loop.\n",
    "A. range() ----------------------------- Correct\n",
    "B. set()\n",
    "C. dictionary{}\n",
    "D. None of the mentioned above\n"
   ]
  },
  {
   "cell_type": "code",
   "execution_count": null,
   "id": "c0445677",
   "metadata": {},
   "outputs": [],
   "source": [
    "Ans - A) range()"
   ]
  },
  {
   "cell_type": "code",
   "execution_count": null,
   "id": "32400115",
   "metadata": {},
   "outputs": [],
   "source": []
  },
  {
   "cell_type": "code",
   "execution_count": null,
   "id": "8cb21db8",
   "metadata": {},
   "outputs": [],
   "source": []
  },
  {
   "cell_type": "code",
   "execution_count": null,
   "id": "914b0783",
   "metadata": {},
   "outputs": [],
   "source": [
    "Question 11\n",
    "Amongst which of the following is a function which does not have any name?\n",
    "A. Del function\n",
    "B. Show function\n",
    "C. Lambda function -------------------- Correct\n",
    "D. None of the mentioned above\n"
   ]
  },
  {
   "cell_type": "code",
   "execution_count": null,
   "id": "488087c8",
   "metadata": {},
   "outputs": [],
   "source": [
    "Ans - c) Lambda function is a no-name function declared in a single line. It can have only one expression and is used when a \n",
    "short-term function is required"
   ]
  },
  {
   "cell_type": "code",
   "execution_count": null,
   "id": "8d1c5c63",
   "metadata": {},
   "outputs": [],
   "source": []
  },
  {
   "cell_type": "code",
   "execution_count": null,
   "id": "8435d2fa",
   "metadata": {},
   "outputs": [],
   "source": []
  },
  {
   "cell_type": "code",
   "execution_count": null,
   "id": "1b494fd9",
   "metadata": {},
   "outputs": [],
   "source": [
    "Question 12\n",
    "The module Pickle is used to ___.\n",
    "A. Serializing Python object structure\n",
    "B. De-serializing Python object structure\n",
    "C. Both A and B --------------------------------------- Correct\n",
    "D. None of the mentioned above\n"
   ]
  },
  {
   "cell_type": "code",
   "execution_count": null,
   "id": "ca6c4d3e",
   "metadata": {},
   "outputs": [],
   "source": [
    "Ans - C) Both A and B"
   ]
  },
  {
   "cell_type": "code",
   "execution_count": null,
   "id": "56727946",
   "metadata": {},
   "outputs": [],
   "source": []
  },
  {
   "cell_type": "code",
   "execution_count": null,
   "id": "c522a3ce",
   "metadata": {},
   "outputs": [],
   "source": []
  },
  {
   "cell_type": "code",
   "execution_count": null,
   "id": "2f211fe4",
   "metadata": {},
   "outputs": [],
   "source": [
    "Question 13\n",
    "Amongst which of the following is / are the method of convert Python objects for writing data in \n",
    "a binary file?\n",
    "A. set() method\n",
    "B. dump() method ----------------------------- Correct\n",
    "C. load() method\n",
    "D. None of the mentioned above\n"
   ]
  },
  {
   "cell_type": "code",
   "execution_count": null,
   "id": "9fe4481d",
   "metadata": {},
   "outputs": [],
   "source": [
    "Ans - B) dump() method."
   ]
  },
  {
   "cell_type": "code",
   "execution_count": null,
   "id": "79bf577d",
   "metadata": {},
   "outputs": [],
   "source": []
  },
  {
   "cell_type": "code",
   "execution_count": null,
   "id": "dbad7b37",
   "metadata": {},
   "outputs": [],
   "source": []
  },
  {
   "cell_type": "code",
   "execution_count": null,
   "id": "750d2bb8",
   "metadata": {},
   "outputs": [],
   "source": [
    "14\n",
    "Amongst which of the following is / are the method used to unpickling data from a binary file?\n",
    "A. load() ----------------------------- Correct\n",
    "B. set() method\n",
    "C. dump() method\n",
    "D. None of the mentioned above\n"
   ]
  },
  {
   "cell_type": "code",
   "execution_count": null,
   "id": "38ae6e66",
   "metadata": {},
   "outputs": [],
   "source": [
    "Ans - A) load()"
   ]
  },
  {
   "cell_type": "code",
   "execution_count": null,
   "id": "17a23b15",
   "metadata": {},
   "outputs": [],
   "source": []
  },
  {
   "cell_type": "code",
   "execution_count": null,
   "id": "a9781c82",
   "metadata": {},
   "outputs": [],
   "source": []
  },
  {
   "cell_type": "code",
   "execution_count": null,
   "id": "c8484e8b",
   "metadata": {},
   "outputs": [],
   "source": [
    "15.\n",
    "A text file contains only textual information consisting of ___.\n",
    "A. Alphabets\n",
    "B. Numbers\n",
    "C. Special symbols\n",
    "D. All of the mentioned above ----------------------- Correct\n"
   ]
  },
  {
   "cell_type": "code",
   "execution_count": null,
   "id": "3e198a44",
   "metadata": {},
   "outputs": [],
   "source": [
    "Ans - D) All of the mentioned above."
   ]
  },
  {
   "cell_type": "code",
   "execution_count": null,
   "id": "3c409cc8",
   "metadata": {},
   "outputs": [],
   "source": []
  },
  {
   "cell_type": "code",
   "execution_count": null,
   "id": "e1681913",
   "metadata": {},
   "outputs": [],
   "source": []
  },
  {
   "cell_type": "code",
   "execution_count": null,
   "id": "ee3b50bc",
   "metadata": {},
   "outputs": [],
   "source": [
    "16 \n",
    "Which Python code could replace the ellipsis (...) below to get the following output? (Select all that \n",
    "apply.)\n",
    "captains = {\n",
    " \"Enterprise\": \"Picard\",\n",
    " \"Voyager\": \"Janeway\",\n",
    " \"Defiant\": \"Sisko\",\n",
    "}\n",
    "Enterprise Picard,\n",
    " Voyager Janeway\n",
    " Defiant Sisko\n",
    "a) for ship, captain in captains.items():\n",
    " print(ship, captain)\n",
    "b) for ship in captains:\n",
    " print(ship, captains[ship])\n",
    "c) for ship in captains:\n",
    " print(ship, captains) \n",
    "d) both a and b ------------------  Correct\n"
   ]
  },
  {
   "cell_type": "code",
   "execution_count": 14,
   "id": "d8b0aa02",
   "metadata": {},
   "outputs": [],
   "source": [
    "captains = { \"Enterprise\": \"Picard\", \"Voyager\": \"Janeway\",  \"Defiant\": \"Siskpo\"}"
   ]
  },
  {
   "cell_type": "code",
   "execution_count": 15,
   "id": "bda8731b",
   "metadata": {},
   "outputs": [
    {
     "name": "stdout",
     "output_type": "stream",
     "text": [
      "Enterprise Picard\n",
      "Voyager Janeway\n",
      "Defiant Siskpo\n"
     ]
    }
   ],
   "source": [
    "a) for ship, captain in captains.items():\n",
    "    print(ship, captain)"
   ]
  },
  {
   "cell_type": "code",
   "execution_count": 17,
   "id": "e4ac4b23",
   "metadata": {},
   "outputs": [
    {
     "name": "stdout",
     "output_type": "stream",
     "text": [
      "Enterprise Picard\n",
      "Voyager Janeway\n",
      "Defiant Siskpo\n"
     ]
    }
   ],
   "source": [
    "b) for ship in captains:\n",
    "    print(ship, captains[ship])"
   ]
  },
  {
   "cell_type": "code",
   "execution_count": 20,
   "id": "b22328f0",
   "metadata": {},
   "outputs": [
    {
     "name": "stdout",
     "output_type": "stream",
     "text": [
      "Enterprise {'Enterprise': 'Picard', 'Voyager': 'Janeway', 'Defiant': 'Siskpo'}\n",
      "Voyager {'Enterprise': 'Picard', 'Voyager': 'Janeway', 'Defiant': 'Siskpo'}\n",
      "Defiant {'Enterprise': 'Picard', 'Voyager': 'Janeway', 'Defiant': 'Siskpo'}\n"
     ]
    }
   ],
   "source": [
    "for ship in captains:\n",
    "    print(ship, captains)"
   ]
  },
  {
   "cell_type": "code",
   "execution_count": null,
   "id": "7bc09331",
   "metadata": {},
   "outputs": [],
   "source": [
    "Ans - d) both a and b"
   ]
  },
  {
   "cell_type": "code",
   "execution_count": null,
   "id": "76c564a6",
   "metadata": {},
   "outputs": [],
   "source": []
  },
  {
   "cell_type": "code",
   "execution_count": null,
   "id": "ca23eee5",
   "metadata": {},
   "outputs": [],
   "source": []
  },
  {
   "cell_type": "code",
   "execution_count": null,
   "id": "f78ce4c5",
   "metadata": {},
   "outputs": [],
   "source": [
    "17)\n",
    "Which of the following lines of code will create an empty dictionary named captains?\n",
    "a) captains = {dict}\n",
    "b) type(captains)\n",
    "c) captains.dict()\n",
    "d) captains = {} ------------------------ Correct\n"
   ]
  },
  {
   "cell_type": "code",
   "execution_count": null,
   "id": "99fe5d5e",
   "metadata": {},
   "outputs": [],
   "source": [
    "Ans - d) captains = {}"
   ]
  },
  {
   "cell_type": "code",
   "execution_count": null,
   "id": "dd46f2f6",
   "metadata": {},
   "outputs": [],
   "source": []
  },
  {
   "cell_type": "code",
   "execution_count": null,
   "id": "3dd8dc57",
   "metadata": {},
   "outputs": [],
   "source": []
  },
  {
   "cell_type": "code",
   "execution_count": null,
   "id": "7ce71c6b",
   "metadata": {},
   "outputs": [],
   "source": [
    "18) Now you have your empty dictionary named captains. It’s time to add some data!\n",
    "Specifically, you want to add the key-value pairs \"Enterprise\": \"Picard\", \"Voyager\": \"Janeway\", \n",
    "and \"Defiant\": \"Sisko\".\n",
    "Which of the following code snippets will successfully add these key-value pairs to the \n",
    "existing captains dictionary?\n",
    "a) captains{\"Enterprise\" = \"Picard\"}\n",
    "captains{\"Voyager\" = \"Janeway\"}\n",
    "captains{\"Defiant\" = \"Sisko\"}\n",
    "b) captains[\"Enterprise\"] = \"Picard\"\n",
    "captains[\"Voyager\"] = \"Janeway\"\n",
    "captains[\"Defiant\"] = \"Sisko\"\n",
    "c) captains = {\n",
    " \"Enterprise\": \"Picard\",\n",
    " \"Voyager\": \"Janeway\",   -------------------------------------   Correct\n",
    " \"Defiant\": \"Sisko\",\n",
    "}\n",
    "d) None of the above\n"
   ]
  },
  {
   "cell_type": "code",
   "execution_count": 23,
   "id": "f9cff9c6",
   "metadata": {},
   "outputs": [],
   "source": [
    "captains = {}"
   ]
  },
  {
   "cell_type": "code",
   "execution_count": 25,
   "id": "1ad9ade6",
   "metadata": {},
   "outputs": [],
   "source": [
    "captains = {\"Enterprise\": \"Picard\",\"Voyager\": \"Janeway\", \"Defiant\": \"Sisko\"}"
   ]
  },
  {
   "cell_type": "code",
   "execution_count": 26,
   "id": "1b8a8b03",
   "metadata": {},
   "outputs": [
    {
     "data": {
      "text/plain": [
       "{'Enterprise': 'Picard', 'Voyager': 'Janeway', 'Defiant': 'Sisko'}"
      ]
     },
     "execution_count": 26,
     "metadata": {},
     "output_type": "execute_result"
    }
   ],
   "source": [
    "captains"
   ]
  },
  {
   "cell_type": "code",
   "execution_count": null,
   "id": "7d2e39ac",
   "metadata": {},
   "outputs": [],
   "source": []
  },
  {
   "cell_type": "code",
   "execution_count": null,
   "id": "5adfe715",
   "metadata": {},
   "outputs": [],
   "source": []
  },
  {
   "cell_type": "code",
   "execution_count": null,
   "id": "0633d0da",
   "metadata": {},
   "outputs": [],
   "source": [
    "19 ) You’re really building out the Federation Starfleet now! Here’s what you have:\n",
    "captains = {\n",
    " \"Enterprise\": \"Picard\",\n",
    " \"Voyager\": \"Janeway\",\n",
    " \"Defiant\": \"Sisko\",\n",
    " \"Discovery\": \"unknown\",\n",
    "}Now, say you want to display the ship and captain names contained in the dictionary, but you also \n",
    "want to provide some additional context. How could you do it?\n",
    "a) for item in captains.items():\n",
    " print(f\"The [ship] is captained by [captain].\")\n",
    "b) for ship, captain in captains.items():\n",
    " print(f\"The {ship} is captained by {captain}.\")\n",
    "c) for captain, ship in captains.items():\n",
    " print(f\"The {ship} is captained by {captain}.\")\n",
    "d) All are correct  -------------------------------------------- Correct\n"
   ]
  },
  {
   "cell_type": "code",
   "execution_count": 27,
   "id": "61a790d3",
   "metadata": {},
   "outputs": [],
   "source": [
    "captains = {\"Enterprise\": \"Picard\",\"Voyager\": \"Janeway\", \"Defiant\": \"Sisko\", \"Discovery\": \"unknown\"}"
   ]
  },
  {
   "cell_type": "code",
   "execution_count": 29,
   "id": "c894eb60",
   "metadata": {},
   "outputs": [
    {
     "name": "stdout",
     "output_type": "stream",
     "text": [
      "The [Ship] is captained by [captain].\n",
      "The [Ship] is captained by [captain].\n",
      "The [Ship] is captained by [captain].\n",
      "The [Ship] is captained by [captain].\n"
     ]
    }
   ],
   "source": [
    "# add some additional context ..\n",
    "\n",
    "a) for item in captains.items():\n",
    "    print(f\"The [Ship] is captained by [captain].\")"
   ]
  },
  {
   "cell_type": "code",
   "execution_count": 34,
   "id": "a628e479",
   "metadata": {},
   "outputs": [
    {
     "name": "stdout",
     "output_type": "stream",
     "text": [
      "The Enterprise is captained by Picard.\n",
      "The Voyager is captained by Janeway.\n",
      "The Defiant is captained by Sisko.\n",
      "The Discovery is captained by unknown.\n"
     ]
    }
   ],
   "source": [
    "for ship, captain in captains.items():\n",
    "    print(f\"The {ship} is captained by {captain}.\")"
   ]
  },
  {
   "cell_type": "code",
   "execution_count": 35,
   "id": "288a539d",
   "metadata": {},
   "outputs": [
    {
     "name": "stdout",
     "output_type": "stream",
     "text": [
      "The Picard is captained by Enterprise.\n",
      "The Janeway is captained by Voyager.\n",
      "The Sisko is captained by Defiant.\n",
      "The unknown is captained by Discovery.\n"
     ]
    }
   ],
   "source": [
    "for captain, ship in captains.items():\n",
    "    print(f\"The {ship} is captained by {captain}.\")"
   ]
  },
  {
   "cell_type": "code",
   "execution_count": null,
   "id": "37944f6c",
   "metadata": {},
   "outputs": [],
   "source": [
    "Ans - d) All is correct."
   ]
  },
  {
   "cell_type": "code",
   "execution_count": null,
   "id": "3d96b5e2",
   "metadata": {},
   "outputs": [],
   "source": []
  },
  {
   "cell_type": "code",
   "execution_count": null,
   "id": "4a766e63",
   "metadata": {},
   "outputs": [],
   "source": []
  },
  {
   "cell_type": "code",
   "execution_count": null,
   "id": "4de78b55",
   "metadata": {},
   "outputs": [],
   "source": [
    "20 ) \n",
    "You’ve created a dictionary, added data, checked for the existence of keys, and iterated over it with \n",
    "a for loop. Now you’re ready to delete a key from this dictionary:\n",
    "captains = {\n",
    " \"Enterprise\": \"Picard\",\n",
    " \"Voyager\": \"Janeway\",\n",
    " \"Defiant\": \"Sisko\",\n",
    " \"Discovery\": \"unknown\",\n",
    "}\n",
    "What statement will remove the entry for the key \"Discovery\"?\n",
    "a) del captains\n",
    "b) captains.remove()\n",
    "c) del captains[\"Discovery\"] ----------------------------- Correct\n",
    "d) captains[\"Discovery\"].pop()"
   ]
  },
  {
   "cell_type": "code",
   "execution_count": 37,
   "id": "7b441eb2",
   "metadata": {},
   "outputs": [],
   "source": [
    "captains = { \"Enterprise\": \"Picard\", \"Voyager\": \"Janeway\", \"Defiant\": \"Sisko\", \"Discovery\": \"unknown\"}"
   ]
  },
  {
   "cell_type": "code",
   "execution_count": 41,
   "id": "1b7746a2",
   "metadata": {},
   "outputs": [],
   "source": [
    "del captains[\"Discovery\"]"
   ]
  },
  {
   "cell_type": "code",
   "execution_count": 42,
   "id": "c51fa5ad",
   "metadata": {},
   "outputs": [
    {
     "data": {
      "text/plain": [
       "{'Enterprise': 'Picard', 'Voyager': 'Janeway', 'Defiant': 'Sisko'}"
      ]
     },
     "execution_count": 42,
     "metadata": {},
     "output_type": "execute_result"
    }
   ],
   "source": [
    "captains"
   ]
  },
  {
   "cell_type": "code",
   "execution_count": null,
   "id": "e31b0d3b",
   "metadata": {},
   "outputs": [],
   "source": []
  },
  {
   "cell_type": "code",
   "execution_count": null,
   "id": "8a87c837",
   "metadata": {},
   "outputs": [],
   "source": []
  }
 ],
 "metadata": {
  "kernelspec": {
   "display_name": "Python 3 (ipykernel)",
   "language": "python",
   "name": "python3"
  },
  "language_info": {
   "codemirror_mode": {
    "name": "ipython",
    "version": 3
   },
   "file_extension": ".py",
   "mimetype": "text/x-python",
   "name": "python",
   "nbconvert_exporter": "python",
   "pygments_lexer": "ipython3",
   "version": "3.9.13"
  }
 },
 "nbformat": 4,
 "nbformat_minor": 5
}
