{
 "cells": [
  {
   "cell_type": "markdown",
   "id": "7b7a6662",
   "metadata": {},
   "source": [
    "# Machine Learning"
   ]
  },
  {
   "cell_type": "code",
   "execution_count": null,
   "id": "6d20bc0b",
   "metadata": {},
   "outputs": [],
   "source": [
    "1. R-squared or Residual Sum of Squares (RSS) which one of these two is a better measure of \n",
    "goodness of fit model in regression and why?"
   ]
  },
  {
   "cell_type": "markdown",
   "id": "e094f336",
   "metadata": {},
   "source": [
    "Ans: Both R-squared and Residual Sum of Squares (RSS) are measures of goodness of fit in regression analysis.\n",
    "     but they capture different aspects of the model's performance.\n",
    "    \n",
    "R-Squared:  R-squared (also known as the coefficient of determination) measures the proportion of variation in the dependent \n",
    "             variable.\n",
    "        \n",
    "RSS: RSS measures the total sum of squared differences between the actual values of the dependent variable and the predicted \n",
    "     values by the model. It represents the amount of unexplained variation in the data, and lower RSS values indicate a better\n",
    "    fit, as they mean that the model is able to explain more of the variation in the data.\n",
    "    "
   ]
  },
  {
   "cell_type": "code",
   "execution_count": null,
   "id": "0d01bde4",
   "metadata": {},
   "outputs": [],
   "source": []
  },
  {
   "cell_type": "code",
   "execution_count": null,
   "id": "44a93aa9",
   "metadata": {},
   "outputs": [],
   "source": []
  },
  {
   "cell_type": "code",
   "execution_count": null,
   "id": "26c9d3cf",
   "metadata": {},
   "outputs": [],
   "source": [
    "2. What are TSS (Total Sum of Squares), ESS (Explained Sum of Squares) and RSS (Residual Sum \n",
    "of Squares) in regression. Also mention the equation relating these three metrics with each other."
   ]
  },
  {
   "cell_type": "markdown",
   "id": "07fdf25e",
   "metadata": {},
   "source": [
    "Ans: \n",
    "\n",
    "TSS -  the total sum of squares equals the explained sum of squares plus the residual sum of squares.\n",
    "\n",
    "ESS -  the sum of the squares of the deviations of the predicted values from the mean value of a response variable,\n",
    "\n",
    "RSS -  The residual sum of squares (RSS) is a statistical technique used to measure the amount of variance in a data set \n",
    "       that is not explained by a regression model."
   ]
  },
  {
   "cell_type": "code",
   "execution_count": null,
   "id": "6a6e4a24",
   "metadata": {},
   "outputs": [],
   "source": []
  },
  {
   "cell_type": "code",
   "execution_count": null,
   "id": "120030be",
   "metadata": {},
   "outputs": [],
   "source": []
  },
  {
   "cell_type": "code",
   "execution_count": null,
   "id": "5894f1d6",
   "metadata": {},
   "outputs": [],
   "source": [
    "3. What is the need of regularization in machine learning? "
   ]
  },
  {
   "cell_type": "markdown",
   "id": "18b852b6",
   "metadata": {},
   "source": [
    "Regularization refers to techniques that are used to calibrate machine learning models in order to minimize the adjusted loss\n",
    "function and prevent overfitting or underfitting"
   ]
  },
  {
   "cell_type": "code",
   "execution_count": null,
   "id": "672eb902",
   "metadata": {},
   "outputs": [],
   "source": []
  },
  {
   "cell_type": "code",
   "execution_count": null,
   "id": "aab3555b",
   "metadata": {},
   "outputs": [],
   "source": []
  },
  {
   "cell_type": "code",
   "execution_count": null,
   "id": "6219c6eb",
   "metadata": {},
   "outputs": [],
   "source": [
    "4. What is Gini–impurity index? "
   ]
  },
  {
   "cell_type": "markdown",
   "id": "1d8fbe50",
   "metadata": {},
   "source": [
    "Gini Impurity is a measurement used to build Decision Trees to determine how the features of a dataset should split nodes to\n",
    "form the tree."
   ]
  },
  {
   "cell_type": "code",
   "execution_count": null,
   "id": "990711a3",
   "metadata": {},
   "outputs": [],
   "source": []
  },
  {
   "cell_type": "code",
   "execution_count": null,
   "id": "be3f9e2c",
   "metadata": {},
   "outputs": [],
   "source": []
  },
  {
   "cell_type": "code",
   "execution_count": null,
   "id": "61fbf4e4",
   "metadata": {},
   "outputs": [],
   "source": [
    "5. Are unregularized decision-trees prone to overfitting? If yes, why? "
   ]
  },
  {
   "cell_type": "markdown",
   "id": "72ec3864",
   "metadata": {},
   "source": [
    "Decision trees are prone to overfitting, especially when a tree is particularly deep. This is due to the amount of specificity \n",
    "we look at leading to smaller sample of events that meet the previous assumptions. This small sample could lead to unsound \n",
    "conclusions."
   ]
  },
  {
   "cell_type": "code",
   "execution_count": null,
   "id": "ca2a5899",
   "metadata": {},
   "outputs": [],
   "source": []
  },
  {
   "cell_type": "code",
   "execution_count": null,
   "id": "8925b270",
   "metadata": {},
   "outputs": [],
   "source": []
  },
  {
   "cell_type": "code",
   "execution_count": null,
   "id": "be9c170c",
   "metadata": {},
   "outputs": [],
   "source": [
    "6. What is an ensemble technique in machine learning? "
   ]
  },
  {
   "cell_type": "markdown",
   "id": "8e498dee",
   "metadata": {},
   "source": [
    "The ensemble methods in machine learning combine the insights obtained from multiple learning models to facilitate accurate \n",
    "and improved decisions. \n",
    "\n",
    "In learning models, noise, variance, and bias are the major sources of error. The ensemble methods in machine learning help\n",
    "minimize these error-causing factors, thereby ensuring the accuracy and stability of machine learning (ML) algorithms."
   ]
  },
  {
   "cell_type": "code",
   "execution_count": null,
   "id": "3f2e0d1c",
   "metadata": {},
   "outputs": [],
   "source": []
  },
  {
   "cell_type": "code",
   "execution_count": null,
   "id": "e8fbb600",
   "metadata": {},
   "outputs": [],
   "source": []
  },
  {
   "cell_type": "code",
   "execution_count": null,
   "id": "b86a3e66",
   "metadata": {},
   "outputs": [],
   "source": [
    "7. What is the difference between Bagging and Boosting techniques? "
   ]
  },
  {
   "cell_type": "markdown",
   "id": "f89c1c0b",
   "metadata": {},
   "source": [
    "Bagging is a technique for reducing prediction variance by producing additional data for training from a dataset \n",
    "\n",
    "Boosting is an iterative strategy for adjusting an observation's weight based on the previous classification."
   ]
  },
  {
   "cell_type": "code",
   "execution_count": null,
   "id": "b227202e",
   "metadata": {},
   "outputs": [],
   "source": []
  },
  {
   "cell_type": "code",
   "execution_count": null,
   "id": "210ca1c1",
   "metadata": {},
   "outputs": [],
   "source": []
  },
  {
   "cell_type": "code",
   "execution_count": null,
   "id": "ae1f09d5",
   "metadata": {},
   "outputs": [],
   "source": [
    "8. What is out-of-bag error in random forests? "
   ]
  },
  {
   "cell_type": "markdown",
   "id": "48a2e38a",
   "metadata": {},
   "source": [
    "The out-of-bag (OOB) error is the average error for each calculated using predictions from the trees that do not contain in \n",
    "their respective bootstrap sample."
   ]
  },
  {
   "cell_type": "code",
   "execution_count": null,
   "id": "241c9d04",
   "metadata": {},
   "outputs": [],
   "source": []
  },
  {
   "cell_type": "code",
   "execution_count": null,
   "id": "1ce173b0",
   "metadata": {},
   "outputs": [],
   "source": []
  },
  {
   "cell_type": "code",
   "execution_count": null,
   "id": "99b468b4",
   "metadata": {},
   "outputs": [],
   "source": [
    "9. What is K-fold cross-validation? "
   ]
  },
  {
   "cell_type": "markdown",
   "id": "9d8d46ae",
   "metadata": {},
   "source": [
    "Cross-validation is a resampling procedure used to evaluate machine learning models on a limited data sample. The procedure has\n",
    "a single parameter called k that refers to the number of groups that a given data sample is to be split into.\n",
    "As such, the procedure is often called k-fold cross-validation."
   ]
  },
  {
   "cell_type": "code",
   "execution_count": null,
   "id": "7b7b244a",
   "metadata": {},
   "outputs": [],
   "source": []
  },
  {
   "cell_type": "code",
   "execution_count": null,
   "id": "f027c01c",
   "metadata": {},
   "outputs": [],
   "source": []
  },
  {
   "cell_type": "code",
   "execution_count": null,
   "id": "eeef2e00",
   "metadata": {},
   "outputs": [],
   "source": [
    "10. What is hyper parameter tuning in machine learning and why it is done? "
   ]
  },
  {
   "cell_type": "markdown",
   "id": "65ebae98",
   "metadata": {},
   "source": [
    "Hyperparameter tuning consists of finding a set of optimal hyperparameter values for a learning algorithm while applying this \n",
    "optimized algorithm to any data set"
   ]
  },
  {
   "cell_type": "code",
   "execution_count": null,
   "id": "2782265f",
   "metadata": {},
   "outputs": [],
   "source": []
  },
  {
   "cell_type": "code",
   "execution_count": null,
   "id": "b0a57d73",
   "metadata": {},
   "outputs": [],
   "source": []
  },
  {
   "cell_type": "code",
   "execution_count": null,
   "id": "22c0a3d5",
   "metadata": {},
   "outputs": [],
   "source": [
    "11. What issues can occur if we have a large learning rate in Gradient Descent? "
   ]
  },
  {
   "cell_type": "markdown",
   "id": "2bc9cc4f",
   "metadata": {},
   "source": [
    "In order for Gradient Descent to work, we must set the learning rate to an appropriate value. This parameter determines\n",
    "how fast or slow we will move towards the optimal weights. If the learning rate is very large we will skip the optimal solution."
   ]
  },
  {
   "cell_type": "code",
   "execution_count": null,
   "id": "481fce59",
   "metadata": {},
   "outputs": [],
   "source": []
  },
  {
   "cell_type": "code",
   "execution_count": null,
   "id": "63220de1",
   "metadata": {},
   "outputs": [],
   "source": []
  },
  {
   "cell_type": "code",
   "execution_count": null,
   "id": "8e745e00",
   "metadata": {},
   "outputs": [],
   "source": [
    "12. Can we use Logistic Regression for classification of Non-Linear Data? If not, why?"
   ]
  },
  {
   "cell_type": "markdown",
   "id": "41b6e8ed",
   "metadata": {},
   "source": [
    "It is used to come up with a hyperplane in feature space to separate observations that belong to a class from all the other \n",
    "observations that do not belong to that class. The decision boundary is thus linear."
   ]
  },
  {
   "cell_type": "code",
   "execution_count": null,
   "id": "e36370c2",
   "metadata": {},
   "outputs": [],
   "source": []
  },
  {
   "cell_type": "code",
   "execution_count": null,
   "id": "448c402a",
   "metadata": {},
   "outputs": [],
   "source": []
  },
  {
   "cell_type": "code",
   "execution_count": null,
   "id": "f8ae5d9a",
   "metadata": {},
   "outputs": [],
   "source": [
    "13. Differentiate between Adaboost and Gradient Boosting."
   ]
  },
  {
   "cell_type": "markdown",
   "id": "1d63f24e",
   "metadata": {},
   "source": [
    "AdaBoost is the first designed boosting algorithm with a particular loss function\n",
    "\n",
    "Gradient Boosting is a generic algorithm that assists in searching the approximate solutions to the additive modelling problem."
   ]
  },
  {
   "cell_type": "code",
   "execution_count": null,
   "id": "8d385869",
   "metadata": {},
   "outputs": [],
   "source": []
  },
  {
   "cell_type": "code",
   "execution_count": null,
   "id": "0bb2795e",
   "metadata": {},
   "outputs": [],
   "source": []
  },
  {
   "cell_type": "code",
   "execution_count": null,
   "id": "b18b67a8",
   "metadata": {},
   "outputs": [],
   "source": [
    "14. What is bias-variance trade off in machine learning?"
   ]
  },
  {
   "cell_type": "markdown",
   "id": "f145196a",
   "metadata": {},
   "source": [
    "the bias–variance machine learning is the property of a model that the variance of the parameter estimated across samples \n",
    "can be reduced by increasing the bias in the estimated parameters."
   ]
  },
  {
   "cell_type": "code",
   "execution_count": null,
   "id": "0054b992",
   "metadata": {},
   "outputs": [],
   "source": []
  },
  {
   "cell_type": "code",
   "execution_count": null,
   "id": "028ebda7",
   "metadata": {},
   "outputs": [],
   "source": []
  },
  {
   "cell_type": "code",
   "execution_count": null,
   "id": "9875ca56",
   "metadata": {},
   "outputs": [],
   "source": [
    "15. Give short description each of Linear, RBF, Polynomial kernels used in SVM"
   ]
  },
  {
   "cell_type": "markdown",
   "id": "04537571",
   "metadata": {},
   "source": [
    "The RBF kernel works by mapping the data into a high-dimensional space by finding the dot products and squares of all the \n",
    "features in the dataset and then performing the classification using the basic idea of Linear SVM."
   ]
  },
  {
   "cell_type": "code",
   "execution_count": null,
   "id": "409c46d1",
   "metadata": {},
   "outputs": [],
   "source": []
  },
  {
   "cell_type": "code",
   "execution_count": null,
   "id": "67a25231",
   "metadata": {},
   "outputs": [],
   "source": []
  },
  {
   "cell_type": "markdown",
   "id": "887daacc",
   "metadata": {},
   "source": [
    "# SQL"
   ]
  },
  {
   "cell_type": "markdown",
   "id": "58b6327b",
   "metadata": {},
   "source": [
    "Refer the following ERD and answer all the questions in this worksheet. You have to write the queries using \n",
    "MySQL for the required Operation."
   ]
  },
  {
   "cell_type": "markdown",
   "id": "a5c471b8",
   "metadata": {},
   "source": [
    "Table Explanations:\n",
    " The movie table contains information about each movie. There are text descriptions such as title and \n",
    "overview. Some fields are more obvious than others: revenue (the amount of money the movie made), budget \n",
    "(the amount spent on creating the movie). Other fields are calculated based on data used to create the data \n",
    "source: popularity, votes_avg, and votes_count. The status indicates if the movie is Released, Rumoured, or in \n",
    "Post-Production.\n",
    " The country list contains a list of different countries, and the movie_country table contains a record of which \n",
    "countries a movie was filmed in (because some movies are filmed in multiple countries). This is a standard \n",
    "many-to-many table, and you’ll find these in a lot of databases.\n",
    " The same concept applies to the production_company table. There is a list of production companies and a \n",
    "many-to-many relationship with movies which is captured in the movie_company table.\n",
    " The languages table has a list of languages, and the movie_languages captures a list of languages in a movie. \n",
    "The difference with this structure is the addition of a language_role table. \n",
    " This language_role table contains two records: Original and Spoken. A movie can have an original language \n",
    "(e.g. English), but many Spoken languages. This is captured in the movie_languages table along with a role.\n",
    " Genres define which category a movie fits into, such as Comedy or Horror. A movie can have multiple \n",
    "genres, which is why the movie_genres table exists"
   ]
  },
  {
   "cell_type": "code",
   "execution_count": null,
   "id": "ff89c918",
   "metadata": {},
   "outputs": [],
   "source": [
    "1. Write SQL query to show all the data in the Movie table."
   ]
  },
  {
   "cell_type": "code",
   "execution_count": null,
   "id": "340077e7",
   "metadata": {},
   "outputs": [],
   "source": [
    "Ans:  sql = select * from movies;"
   ]
  },
  {
   "cell_type": "code",
   "execution_count": null,
   "id": "1cff8eb0",
   "metadata": {},
   "outputs": [],
   "source": []
  },
  {
   "cell_type": "code",
   "execution_count": null,
   "id": "41f8de91",
   "metadata": {},
   "outputs": [],
   "source": [
    "2. Write SQL query to show the title of the longest runtime movie."
   ]
  },
  {
   "cell_type": "code",
   "execution_count": null,
   "id": "d79df724",
   "metadata": {},
   "outputs": [],
   "source": [
    "Ans: sql = select title from pk;"
   ]
  },
  {
   "cell_type": "code",
   "execution_count": null,
   "id": "d252a726",
   "metadata": {},
   "outputs": [],
   "source": []
  },
  {
   "cell_type": "code",
   "execution_count": null,
   "id": "c2273b0c",
   "metadata": {},
   "outputs": [],
   "source": [
    "3. Write SQL query to show the highest revenue generating movie title."
   ]
  },
  {
   "cell_type": "code",
   "execution_count": null,
   "id": "3451e520",
   "metadata": {},
   "outputs": [],
   "source": [
    "Ans: sql = select title from pk where movie title = 'highest revenue';"
   ]
  },
  {
   "cell_type": "code",
   "execution_count": null,
   "id": "445c6b67",
   "metadata": {},
   "outputs": [],
   "source": []
  },
  {
   "cell_type": "code",
   "execution_count": null,
   "id": "6cdce61f",
   "metadata": {},
   "outputs": [],
   "source": [
    "4. Write SQL query to show the movie title with maximum value of revenue/budget."
   ]
  },
  {
   "cell_type": "code",
   "execution_count": null,
   "id": "93588679",
   "metadata": {},
   "outputs": [],
   "source": [
    "Ans: sql =  select movie title from pk\n",
    "\n",
    "            where revenue = (select max(revenue) from pk);"
   ]
  },
  {
   "cell_type": "code",
   "execution_count": null,
   "id": "b590a7bd",
   "metadata": {},
   "outputs": [],
   "source": []
  },
  {
   "cell_type": "code",
   "execution_count": null,
   "id": "f2a86df6",
   "metadata": {},
   "outputs": [],
   "source": [
    "5. Write a SQL query to show the movie title and its cast details like name of the person, gender, character \n",
    "name, cast order."
   ]
  },
  {
   "cell_type": "code",
   "execution_count": null,
   "id": "8e98aeec",
   "metadata": {},
   "outputs": [],
   "source": []
  },
  {
   "cell_type": "code",
   "execution_count": null,
   "id": "46f82aca",
   "metadata": {},
   "outputs": [],
   "source": []
  },
  {
   "cell_type": "code",
   "execution_count": null,
   "id": "6b4a07c2",
   "metadata": {},
   "outputs": [],
   "source": [
    "6. Write a SQL query to show the country name where maximum number of movies has been produced, along \n",
    "with the number of movies produced."
   ]
  },
  {
   "cell_type": "code",
   "execution_count": null,
   "id": "3d6d9910",
   "metadata": {},
   "outputs": [],
   "source": []
  },
  {
   "cell_type": "code",
   "execution_count": null,
   "id": "cc58228c",
   "metadata": {},
   "outputs": [],
   "source": []
  },
  {
   "cell_type": "code",
   "execution_count": null,
   "id": "6c864748",
   "metadata": {},
   "outputs": [],
   "source": [
    "7. Write a SQL query to show all the genre_id in one column and genre_name in second column."
   ]
  },
  {
   "cell_type": "code",
   "execution_count": null,
   "id": "df03bdd7",
   "metadata": {},
   "outputs": [],
   "source": []
  },
  {
   "cell_type": "code",
   "execution_count": null,
   "id": "680ee5ec",
   "metadata": {},
   "outputs": [],
   "source": []
  },
  {
   "cell_type": "code",
   "execution_count": null,
   "id": "6d66e474",
   "metadata": {},
   "outputs": [],
   "source": [
    "8. Write a SQL query to show name of all the languages in one column and number of movies in that \n",
    "particular column in another column. "
   ]
  },
  {
   "cell_type": "code",
   "execution_count": null,
   "id": "5cb7b473",
   "metadata": {},
   "outputs": [],
   "source": []
  },
  {
   "cell_type": "code",
   "execution_count": null,
   "id": "3c159207",
   "metadata": {},
   "outputs": [],
   "source": []
  },
  {
   "cell_type": "code",
   "execution_count": null,
   "id": "99e75f4a",
   "metadata": {},
   "outputs": [],
   "source": [
    "9. Write a SQL query to show movie name in first column, no. of crew members in second column and \n",
    "number of cast members in third column."
   ]
  },
  {
   "cell_type": "code",
   "execution_count": null,
   "id": "a044c8fa",
   "metadata": {},
   "outputs": [],
   "source": []
  },
  {
   "cell_type": "code",
   "execution_count": null,
   "id": "73ed89d5",
   "metadata": {},
   "outputs": [],
   "source": []
  },
  {
   "cell_type": "code",
   "execution_count": null,
   "id": "e8218a7a",
   "metadata": {},
   "outputs": [],
   "source": [
    "10. Write a SQL query to list top 10 movies title according to popularity column in decreasing order."
   ]
  },
  {
   "cell_type": "code",
   "execution_count": null,
   "id": "45dea849",
   "metadata": {},
   "outputs": [],
   "source": []
  },
  {
   "cell_type": "code",
   "execution_count": null,
   "id": "67b9637f",
   "metadata": {},
   "outputs": [],
   "source": []
  },
  {
   "cell_type": "code",
   "execution_count": null,
   "id": "40c249c4",
   "metadata": {},
   "outputs": [],
   "source": [
    "11. Write a SQL query to show the name of the 3rd most revenue generating movie and its revenue."
   ]
  },
  {
   "cell_type": "code",
   "execution_count": null,
   "id": "485f3f85",
   "metadata": {},
   "outputs": [],
   "source": []
  },
  {
   "cell_type": "code",
   "execution_count": null,
   "id": "56445413",
   "metadata": {},
   "outputs": [],
   "source": []
  },
  {
   "cell_type": "code",
   "execution_count": null,
   "id": "643c06cc",
   "metadata": {},
   "outputs": [],
   "source": [
    "12. Write a SQL query to show the names of all the movies which have “rumoured” movie status."
   ]
  },
  {
   "cell_type": "code",
   "execution_count": null,
   "id": "af095e63",
   "metadata": {},
   "outputs": [],
   "source": []
  },
  {
   "cell_type": "code",
   "execution_count": null,
   "id": "cc90dc8d",
   "metadata": {},
   "outputs": [],
   "source": []
  },
  {
   "cell_type": "code",
   "execution_count": null,
   "id": "3d6b4f78",
   "metadata": {},
   "outputs": [],
   "source": [
    "13. Write a SQL query to show the name of the “United States of America” produced movie which generated \n",
    "maximum revenue."
   ]
  },
  {
   "cell_type": "code",
   "execution_count": null,
   "id": "396864c9",
   "metadata": {},
   "outputs": [],
   "source": []
  },
  {
   "cell_type": "code",
   "execution_count": null,
   "id": "19599061",
   "metadata": {},
   "outputs": [],
   "source": []
  },
  {
   "cell_type": "code",
   "execution_count": null,
   "id": "a79bf6f5",
   "metadata": {},
   "outputs": [],
   "source": [
    "14. Write a SQL query to print the movie_id in one column and name of the production company in the second \n",
    "column for all the movies."
   ]
  },
  {
   "cell_type": "code",
   "execution_count": null,
   "id": "9dc94283",
   "metadata": {},
   "outputs": [],
   "source": []
  },
  {
   "cell_type": "code",
   "execution_count": null,
   "id": "8b544a62",
   "metadata": {},
   "outputs": [],
   "source": []
  },
  {
   "cell_type": "code",
   "execution_count": null,
   "id": "6c54a6ca",
   "metadata": {},
   "outputs": [],
   "source": [
    "15. Write a SQL query to show the title of top 20 movies arranged in decreasing order of their budget."
   ]
  },
  {
   "cell_type": "code",
   "execution_count": null,
   "id": "4a6a75aa",
   "metadata": {},
   "outputs": [],
   "source": []
  },
  {
   "cell_type": "code",
   "execution_count": null,
   "id": "1092a38e",
   "metadata": {},
   "outputs": [],
   "source": []
  },
  {
   "cell_type": "code",
   "execution_count": null,
   "id": "42152a54",
   "metadata": {},
   "outputs": [],
   "source": []
  },
  {
   "cell_type": "markdown",
   "id": "700e8817",
   "metadata": {},
   "source": [
    "# Statistics"
   ]
  },
  {
   "cell_type": "markdown",
   "id": "5520e231",
   "metadata": {},
   "source": [
    "Q1 to Q10 are MCQs with only one correct answer. Choose the correct option."
   ]
  },
  {
   "cell_type": "code",
   "execution_count": null,
   "id": "1b608894",
   "metadata": {},
   "outputs": [],
   "source": [
    "1. Using a goodness of fit,we can assess whether a set of obtained frequencies differ from a set of frequencies.\n",
    "a) Mean\n",
    "b) Actual\n",
    "c) Predicted\n",
    "d) Expected"
   ]
  },
  {
   "cell_type": "markdown",
   "id": "2d61b408",
   "metadata": {},
   "source": [
    "Ans: d) Expected"
   ]
  },
  {
   "cell_type": "code",
   "execution_count": null,
   "id": "5c055f72",
   "metadata": {},
   "outputs": [],
   "source": []
  },
  {
   "cell_type": "code",
   "execution_count": null,
   "id": "a6f67698",
   "metadata": {},
   "outputs": [],
   "source": []
  },
  {
   "cell_type": "code",
   "execution_count": null,
   "id": "e662a7d1",
   "metadata": {},
   "outputs": [],
   "source": [
    "2. Chisquare is used to analyse\n",
    "a) Score\n",
    "b) Rank\n",
    "c) Frequencies\n",
    "d) All of these"
   ]
  },
  {
   "cell_type": "markdown",
   "id": "ca3e89ee",
   "metadata": {},
   "source": [
    "Ans: c) Frequencies"
   ]
  },
  {
   "cell_type": "code",
   "execution_count": null,
   "id": "c0f21981",
   "metadata": {},
   "outputs": [],
   "source": []
  },
  {
   "cell_type": "code",
   "execution_count": null,
   "id": "9e5396ab",
   "metadata": {},
   "outputs": [],
   "source": []
  },
  {
   "cell_type": "code",
   "execution_count": null,
   "id": "9dca9887",
   "metadata": {},
   "outputs": [],
   "source": [
    "3. What is the mean of a Chi Square distribution with 6 degrees of freedom?\n",
    "a) 4\n",
    "b) 12\n",
    "c) 6\n",
    "d) 8"
   ]
  },
  {
   "cell_type": "markdown",
   "id": "7e13b28d",
   "metadata": {},
   "source": [
    "Ans: C) 6"
   ]
  },
  {
   "cell_type": "code",
   "execution_count": null,
   "id": "7a8d0aa8",
   "metadata": {},
   "outputs": [],
   "source": []
  },
  {
   "cell_type": "code",
   "execution_count": null,
   "id": "c5320566",
   "metadata": {},
   "outputs": [],
   "source": []
  },
  {
   "cell_type": "code",
   "execution_count": null,
   "id": "5fd56b81",
   "metadata": {},
   "outputs": [],
   "source": [
    "4. Which of these distributions is used for a goodness of fit testing?\n",
    "a) Normal distribution\n",
    "b) Chisqared distribution\n",
    "c) Gamma distribution\n",
    "d) Poission distribution"
   ]
  },
  {
   "cell_type": "markdown",
   "id": "e0feb5bf",
   "metadata": {},
   "source": [
    "Ans: b) Chisqared distribution"
   ]
  },
  {
   "cell_type": "code",
   "execution_count": null,
   "id": "94c7748b",
   "metadata": {},
   "outputs": [],
   "source": []
  },
  {
   "cell_type": "code",
   "execution_count": null,
   "id": "46f0e15c",
   "metadata": {},
   "outputs": [],
   "source": []
  },
  {
   "cell_type": "code",
   "execution_count": null,
   "id": "48c504d1",
   "metadata": {},
   "outputs": [],
   "source": [
    "5. Which of the following distributions is Continuous\n",
    "a) Binomial Distribution\n",
    "b) Hypergeometric Distribution\n",
    "c) F Distribution\n",
    "d) Poisson Distribution"
   ]
  },
  {
   "cell_type": "markdown",
   "id": "53a4a4d9",
   "metadata": {},
   "source": [
    "Ans: a) Binomial Distribution"
   ]
  },
  {
   "cell_type": "code",
   "execution_count": null,
   "id": "e7645990",
   "metadata": {},
   "outputs": [],
   "source": []
  },
  {
   "cell_type": "code",
   "execution_count": null,
   "id": "62888656",
   "metadata": {},
   "outputs": [],
   "source": []
  },
  {
   "cell_type": "code",
   "execution_count": null,
   "id": "697c5575",
   "metadata": {},
   "outputs": [],
   "source": [
    "6. A statement made about a population for testing purpose is called?\n",
    "a) Statistic\n",
    "b) Hypothesis\n",
    "c) Level of Significance\n",
    "d) TestStatistic"
   ]
  },
  {
   "cell_type": "markdown",
   "id": "9c42ca92",
   "metadata": {},
   "source": [
    "Ans: b) Hypothesis"
   ]
  },
  {
   "cell_type": "code",
   "execution_count": null,
   "id": "4084c664",
   "metadata": {},
   "outputs": [],
   "source": []
  },
  {
   "cell_type": "code",
   "execution_count": null,
   "id": "43b47c8d",
   "metadata": {},
   "outputs": [],
   "source": []
  },
  {
   "cell_type": "code",
   "execution_count": null,
   "id": "085f4616",
   "metadata": {},
   "outputs": [],
   "source": [
    "7. If the assumed hypothesis is tested for rejection considering it to be true is called?\n",
    "a) Null Hypothesis\n",
    "b) Statistical Hypothesis\n",
    "c) Simple Hypothesis\n",
    "d) Composite Hypothesis"
   ]
  },
  {
   "cell_type": "markdown",
   "id": "c50bbb35",
   "metadata": {},
   "source": [
    "Ans: a) Null Hypothesis"
   ]
  },
  {
   "cell_type": "code",
   "execution_count": null,
   "id": "66a46d87",
   "metadata": {},
   "outputs": [],
   "source": []
  },
  {
   "cell_type": "code",
   "execution_count": null,
   "id": "e0b0ebfe",
   "metadata": {},
   "outputs": [],
   "source": []
  },
  {
   "cell_type": "code",
   "execution_count": null,
   "id": "4bc84335",
   "metadata": {},
   "outputs": [],
   "source": [
    "8. If the Critical region is evenly distributed then the test is referred as?\n",
    "a) Two tailed\n",
    "b) One tailed\n",
    "c) Three tailed\n",
    "d) Zero tailed"
   ]
  },
  {
   "cell_type": "markdown",
   "id": "d5e66bce",
   "metadata": {},
   "source": [
    "Ans: a) Two tailed"
   ]
  },
  {
   "cell_type": "code",
   "execution_count": null,
   "id": "8b07c98c",
   "metadata": {},
   "outputs": [],
   "source": []
  },
  {
   "cell_type": "code",
   "execution_count": null,
   "id": "2bc5e658",
   "metadata": {},
   "outputs": [],
   "source": []
  },
  {
   "cell_type": "code",
   "execution_count": null,
   "id": "8a80ab96",
   "metadata": {},
   "outputs": [],
   "source": [
    "9. Alternative Hypothesis is also called as?\n",
    "a) Composite hypothesis\n",
    "b) Research Hypothesis\n",
    "c) Simple Hypothesis\n",
    "d) Null Hypothesis"
   ]
  },
  {
   "cell_type": "markdown",
   "id": "1f37b046",
   "metadata": {},
   "source": [
    "Ans: b) Research Hypothesis"
   ]
  },
  {
   "cell_type": "code",
   "execution_count": null,
   "id": "f4b6d790",
   "metadata": {},
   "outputs": [],
   "source": []
  },
  {
   "cell_type": "code",
   "execution_count": null,
   "id": "efd187f7",
   "metadata": {},
   "outputs": [],
   "source": []
  },
  {
   "cell_type": "code",
   "execution_count": null,
   "id": "4f470a1d",
   "metadata": {},
   "outputs": [],
   "source": [
    "10. In a Binomial Distribution, if ‘n’ is the number of trials and ‘p’ is the probability of success, then the mean value is \n",
    "given by ---------\n",
    "a) np\n",
    "b) n"
   ]
  },
  {
   "cell_type": "markdown",
   "id": "0eb57a19",
   "metadata": {},
   "source": [
    "Ans: a) np"
   ]
  },
  {
   "cell_type": "code",
   "execution_count": null,
   "id": "9ffa3e25",
   "metadata": {},
   "outputs": [],
   "source": []
  }
 ],
 "metadata": {
  "kernelspec": {
   "display_name": "Python 3 (ipykernel)",
   "language": "python",
   "name": "python3"
  },
  "language_info": {
   "codemirror_mode": {
    "name": "ipython",
    "version": 3
   },
   "file_extension": ".py",
   "mimetype": "text/x-python",
   "name": "python",
   "nbconvert_exporter": "python",
   "pygments_lexer": "ipython3",
   "version": "3.9.13"
  }
 },
 "nbformat": 4,
 "nbformat_minor": 5
}
